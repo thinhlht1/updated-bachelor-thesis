{
 "cells": [
  {
   "cell_type": "code",
   "execution_count": 1,
   "metadata": {
    "collapsed": false,
    "deletable": true,
    "editable": true
   },
   "outputs": [],
   "source": [
    "import numpy as np\n",
    "import pandas as pd\n",
    "import tensorflow as tf\n",
    "import matplotlib.pyplot as plt"
   ]
  },
  {
   "cell_type": "code",
   "execution_count": 2,
   "metadata": {
    "collapsed": false,
    "deletable": true,
    "editable": true
   },
   "outputs": [],
   "source": [
    "train = pd.read_csv('mnist_train.csv')\n",
    "test = pd.read_csv('mnist_test.csv')"
   ]
  },
  {
   "cell_type": "code",
   "execution_count": 3,
   "metadata": {
    "collapsed": false,
    "deletable": true,
    "editable": true
   },
   "outputs": [],
   "source": [
    "dict_x_train = train.ix[:,'0':]\n",
    "pixel_train = dict_x_train.as_matrix()\n",
    "dict_y_train = train.ix[:,'5']\n",
    "label = dict_y_train.as_matrix()\n",
    "\n",
    "dict_x_test = test.ix[:,'0':]\n",
    "pixel_test = dict_x_test.as_matrix()\n",
    "dict_y_test = test.ix[:,'7']\n",
    "label_test = dict_y_test.as_matrix()"
   ]
  },
  {
   "cell_type": "code",
   "execution_count": 4,
   "metadata": {
    "collapsed": false,
    "deletable": true,
    "editable": true
   },
   "outputs": [
    {
     "data": {
      "text/plain": [
       "(9999, 784)"
      ]
     },
     "execution_count": 4,
     "metadata": {},
     "output_type": "execute_result"
    }
   ],
   "source": [
    "np.shape(pixel_test)"
   ]
  },
  {
   "cell_type": "code",
   "execution_count": 5,
   "metadata": {
    "collapsed": false,
    "deletable": true,
    "editable": true
   },
   "outputs": [],
   "source": [
    "mean_train = np.mean(pixel_train,axis = 1)\n",
    "std_train = np.std(pixel_train,axis = 1)\n",
    "\n",
    "mean_test = np.mean(pixel_test,axis = 1)\n",
    "std_test = np.std(pixel_test,axis = 1)"
   ]
  },
  {
   "cell_type": "markdown",
   "metadata": {
    "deletable": true,
    "editable": true
   },
   "source": [
    "Pre-processing the data. np.tile create matrix with duplicated rows or columns"
   ]
  },
  {
   "cell_type": "code",
   "execution_count": 6,
   "metadata": {
    "collapsed": false,
    "deletable": true,
    "editable": true
   },
   "outputs": [],
   "source": [
    "mean_temp_train = np.tile(mean_train,[784,1])\n",
    "mean_temp_train = mean_temp_train.transpose()\n",
    "\n",
    "std_temp_train = np.tile(std_train,[784,1])\n",
    "std_temp_train = std_temp_train.transpose()\n",
    "\n",
    "\n",
    "mean_temp_test = np.tile(mean_test,[784,1])\n",
    "mean_temp_test = mean_temp_test.transpose()\n",
    "\n",
    "std_temp_test = np.tile(std_test,[784,1])\n",
    "std_temp_test = std_temp_test.transpose()"
   ]
  },
  {
   "cell_type": "code",
   "execution_count": 7,
   "metadata": {
    "collapsed": false,
    "deletable": true,
    "editable": true
   },
   "outputs": [],
   "source": [
    "zero_mean_train = pixel_train - mean_temp_train\n",
    "data = zero_mean_train/std_temp_train\n",
    "\n",
    "\n",
    "zero_mean_test = pixel_test - mean_temp_test\n",
    "test_data = zero_mean_test/std_temp_test"
   ]
  },
  {
   "cell_type": "code",
   "execution_count": 8,
   "metadata": {
    "collapsed": false,
    "deletable": true,
    "editable": true
   },
   "outputs": [],
   "source": [
    "train_data = data"
   ]
  },
  {
   "cell_type": "code",
   "execution_count": 9,
   "metadata": {
    "collapsed": true,
    "deletable": true,
    "editable": true
   },
   "outputs": [],
   "source": [
    "data = train_data[0:42000,:]\n",
    "validate = train_data[42001:54000,:]\n",
    "testdata = train_data[54001:59998,:]\n",
    "\n",
    "label_data = label[0:42000]\n",
    "label_validate = label[42001:54000]\n",
    "label_test = label[54001:59998]"
   ]
  },
  {
   "cell_type": "code",
   "execution_count": 10,
   "metadata": {
    "collapsed": false,
    "deletable": true,
    "editable": true
   },
   "outputs": [],
   "source": [
    "def one_hot_encoding(x):\n",
    "    temp = np.zeros((len(x), 10))             #10 classes\n",
    "    temp[np.arange(len(x)), x] = 1\n",
    "    return temp"
   ]
  },
  {
   "cell_type": "code",
   "execution_count": 11,
   "metadata": {
    "collapsed": true,
    "deletable": true,
    "editable": true
   },
   "outputs": [],
   "source": [
    "img_size = 28\n",
    "\n",
    "img_size_flat = img_size * img_size\n",
    "\n",
    "img_shape = (img_size, img_size)\n",
    "\n",
    "first_layer = 1000\n",
    "\n",
    "num_classes = 10"
   ]
  },
  {
   "cell_type": "code",
   "execution_count": 12,
   "metadata": {
    "collapsed": false,
    "deletable": true,
    "editable": true
   },
   "outputs": [],
   "source": [
    "x = tf.placeholder(tf.float32, [None, img_size_flat])\n",
    "y_true = tf.placeholder(tf.float32, [None, num_classes])\n",
    "y_true_cls = tf.placeholder(tf.int64, [None])"
   ]
  },
  {
   "cell_type": "code",
   "execution_count": 13,
   "metadata": {
    "collapsed": true,
    "deletable": true,
    "editable": true
   },
   "outputs": [],
   "source": [
    "first_weights = tf.Variable(tf.random_normal([img_size_flat, first_layer]))\n",
    "first_biases = tf.Variable(tf.zeros([first_layer]))\n",
    "\n",
    "second_weights = tf.Variable(tf.random_normal([first_layer, num_classes]))\n",
    "second_biases = tf.Variable(tf.zeros([num_classes]))"
   ]
  },
  {
   "cell_type": "code",
   "execution_count": 14,
   "metadata": {
    "collapsed": true,
    "deletable": true,
    "editable": true
   },
   "outputs": [],
   "source": [
    "z1 = tf.matmul(x,first_weights) + first_biases\n",
    "a1 = tf.nn.relu(z1)\n",
    "\n",
    "logits = tf.matmul(a1, second_weights) + second_biases"
   ]
  },
  {
   "cell_type": "code",
   "execution_count": 15,
   "metadata": {
    "collapsed": false,
    "deletable": true,
    "editable": true
   },
   "outputs": [
    {
     "data": {
      "text/plain": [
       "<tf.Tensor 'Softmax:0' shape=(?, 10) dtype=float32>"
      ]
     },
     "execution_count": 15,
     "metadata": {},
     "output_type": "execute_result"
    }
   ],
   "source": [
    "y_pred = tf.nn.softmax(logits)\n",
    "y_pred_cls = tf.argmax(y_pred, dimension=1)\n",
    "y_pred"
   ]
  },
  {
   "cell_type": "markdown",
   "metadata": {
    "deletable": true,
    "editable": true
   },
   "source": [
    "# L2 regularizations"
   ]
  },
  {
   "cell_type": "code",
   "execution_count": 16,
   "metadata": {
    "collapsed": false,
    "deletable": true,
    "editable": true
   },
   "outputs": [],
   "source": [
    "lamda = 0.5\n",
    "cross_entropy = tf.nn.softmax_cross_entropy_with_logits(logits=logits,\n",
    "                                                        labels=y_true)\n",
    "cost = tf.reduce_mean(cross_entropy\n",
    "                      +lamda*tf.nn.l2_loss(first_weights)+lamda*tf.nn.l2_loss(second_weights))"
   ]
  },
  {
   "cell_type": "code",
   "execution_count": 17,
   "metadata": {
    "collapsed": false,
    "deletable": true,
    "editable": true
   },
   "outputs": [],
   "source": [
    "optimizer = tf.train.GradientDescentOptimizer(learning_rate=0.00001).minimize(cost)\n",
    "correct_prediction = tf.equal(y_pred_cls, y_true_cls)\n",
    "accuracy = tf.reduce_mean(tf.cast(correct_prediction, tf.float32))"
   ]
  },
  {
   "cell_type": "code",
   "execution_count": 18,
   "metadata": {
    "collapsed": true,
    "deletable": true,
    "editable": true
   },
   "outputs": [],
   "source": [
    "def one_hot_encoding(x):\n",
    "    temp = np.zeros((len(x), 10))             #10 classes\n",
    "    temp[np.arange(len(x)), x] = 1\n",
    "    return temp"
   ]
  },
  {
   "cell_type": "code",
   "execution_count": 19,
   "metadata": {
    "collapsed": false,
    "deletable": true,
    "editable": true
   },
   "outputs": [],
   "source": [
    "session = tf.Session()\n",
    "session.run(tf.global_variables_initializer())"
   ]
  },
  {
   "cell_type": "code",
   "execution_count": 20,
   "metadata": {
    "collapsed": true,
    "deletable": true,
    "editable": true
   },
   "outputs": [],
   "source": [
    "batch_size = 100\n",
    "steps = len(data)/batch_size\n",
    "#steps = 800/batch_size\n",
    "steps = int(steps)\n",
    "err_test = list()\n",
    "err_validate = list()\n",
    "acc_test = list()\n",
    "acc_validate = list()\n",
    "def optimize(num_iterations):\n",
    "    for i in range(num_iterations):\n",
    "        k = 0\n",
    "        for j in range(steps):\n",
    "            x_batch = data[k:k+ batch_size,:] \n",
    "            y_true_batch = label_data[k:k+ batch_size]\n",
    "\n",
    "            y_true_batch = one_hot_encoding(y_true_batch)\n",
    "           \n",
    "            k = k + batch_size\n",
    "            feed_dict_train = {x: x_batch,\n",
    "                               y_true: y_true_batch}\n",
    "            session.run(optimizer, feed_dict=feed_dict_train)\n",
    "            \n",
    "        err_test.append(print_loss(feed_dict_test))\n",
    "        err_validate.append(print_loss(feed_dict_validate))\n",
    "        print(\"time: {0}, loss on data: {1}, loss on validate: {2}\".format(i, print_loss(feed_dict_test), print_loss(feed_dict_validate)))\n",
    "        acc_validate.append(print_accuracy(feed_dict_validate))\n",
    "        acc_test.append(print_accuracy(feed_dict_test))"
   ]
  },
  {
   "cell_type": "code",
   "execution_count": 21,
   "metadata": {
    "collapsed": false,
    "deletable": true,
    "editable": true
   },
   "outputs": [],
   "source": [
    "feed_label_validate = one_hot_encoding(label_validate)\n",
    "validate_class = np.array([label.argmax() for label in feed_label_validate])\n",
    "feed_dict_validate = {x: validate,\n",
    "                  y_true: feed_label_validate,\n",
    "                  y_true_cls: validate_class}"
   ]
  },
  {
   "cell_type": "code",
   "execution_count": 22,
   "metadata": {
    "collapsed": false,
    "deletable": true,
    "editable": true
   },
   "outputs": [],
   "source": [
    "feed_label_test = one_hot_encoding(label_data)\n",
    "test_class = np.array([label.argmax() for label in feed_label_test])\n",
    "feed_dict_test = {x: data,\n",
    "                  y_true: feed_label_test,\n",
    "                  y_true_cls: test_class}"
   ]
  },
  {
   "cell_type": "code",
   "execution_count": 23,
   "metadata": {
    "collapsed": true,
    "deletable": true,
    "editable": true
   },
   "outputs": [],
   "source": [
    "def print_accuracy(feed_dict_):\n",
    "    # Use TensorFlow to compute the accuracy.\n",
    "    acc = session.run(accuracy, feed_dict_)\n",
    "    \n",
    "    # Print the accuracy.\n",
    "    #print(\"Accuracy on test-set: {0:.1%}\".format(acc))\n",
    "    return acc"
   ]
  },
  {
   "cell_type": "code",
   "execution_count": 24,
   "metadata": {
    "collapsed": true,
    "deletable": true,
    "editable": true
   },
   "outputs": [],
   "source": [
    "def print_loss(feed_dict_):\n",
    "    # Use TensorFlow to compute the accuracy.\n",
    "    acc = session.run(cost, feed_dict_)\n",
    "    \n",
    "    # Print the accuracy.\n",
    "    #print(\"Accuracy on test-set: {0:.1%}\".format(acc))\n",
    "    return acc"
   ]
  },
  {
   "cell_type": "code",
   "execution_count": 25,
   "metadata": {
    "collapsed": false,
    "deletable": true,
    "editable": true
   },
   "outputs": [],
   "source": [
    "err_validate.append(print_loss(feed_dict_validate))\n",
    "err_test.append(print_loss(feed_dict_test))\n",
    "\n",
    "\n",
    "acc_validate.append(print_accuracy(feed_dict_validate))\n",
    "acc_test.append(print_accuracy(feed_dict_test))"
   ]
  },
  {
   "cell_type": "code",
   "execution_count": null,
   "metadata": {
    "collapsed": true,
    "deletable": true,
    "editable": true
   },
   "outputs": [],
   "source": []
  },
  {
   "cell_type": "code",
   "execution_count": 26,
   "metadata": {
    "collapsed": false,
    "deletable": true,
    "editable": true
   },
   "outputs": [
    {
     "name": "stdout",
     "output_type": "stream",
     "text": [
      "time: 0, loss on data: 198539.96875, loss on validate: 198546.28125\n",
      "time: 1, loss on data: 197595.53125, loss on validate: 197604.5\n",
      "time: 2, loss on data: 196682.375, loss on validate: 196688.46875\n",
      "time: 3, loss on data: 195786.53125, loss on validate: 195797.5625\n",
      "time: 4, loss on data: 194917.578125, loss on validate: 194924.828125\n",
      "time: 5, loss on data: 194065.546875, loss on validate: 194067.484375\n",
      "time: 6, loss on data: 193216.03125, loss on validate: 193224.5\n",
      "time: 7, loss on data: 192383.140625, loss on validate: 192388.953125\n",
      "time: 8, loss on data: 191558.296875, loss on validate: 191560.703125\n",
      "time: 9, loss on data: 190724.6875, loss on validate: 190734.640625\n",
      "time: 10, loss on data: 189908.25, loss on validate: 189916.265625\n",
      "time: 11, loss on data: 189102.84375, loss on validate: 189107.5\n",
      "time: 12, loss on data: 188295.65625, loss on validate: 188298.53125\n",
      "time: 13, loss on data: 187497.6875, loss on validate: 187493.796875\n",
      "time: 14, loss on data: 186684.46875, loss on validate: 186698.25\n",
      "time: 15, loss on data: 185892.78125, loss on validate: 185901.375\n",
      "time: 16, loss on data: 185100.359375, loss on validate: 185113.796875\n",
      "time: 17, loss on data: 184316.53125, loss on validate: 184328.578125\n",
      "time: 18, loss on data: 183534.828125, loss on validate: 183542.484375\n",
      "time: 19, loss on data: 182757.203125, loss on validate: 182764.34375\n",
      "time: 20, loss on data: 181982.5625, loss on validate: 181990.1875\n",
      "time: 21, loss on data: 181212.390625, loss on validate: 181224.875\n",
      "time: 22, loss on data: 180442.84375, loss on validate: 180457.21875\n",
      "time: 23, loss on data: 179683.53125, loss on validate: 179690.96875\n",
      "time: 24, loss on data: 178920.78125, loss on validate: 178935.640625\n",
      "time: 25, loss on data: 178183.71875, loss on validate: 178175.453125\n",
      "time: 26, loss on data: 177425.375, loss on validate: 177427.4375\n",
      "time: 27, loss on data: 176677.421875, loss on validate: 176679.59375\n",
      "time: 28, loss on data: 175923.15625, loss on validate: 175935.859375\n",
      "time: 29, loss on data: 175177.796875, loss on validate: 175186.859375\n",
      "time: 30, loss on data: 174456.34375, loss on validate: 174455.4375\n",
      "time: 31, loss on data: 173716.625, loss on validate: 173718.609375\n",
      "time: 32, loss on data: 172969.9375, loss on validate: 172985.921875\n",
      "time: 33, loss on data: 172262.625, loss on validate: 172254.9375\n",
      "time: 34, loss on data: 171530.40625, loss on validate: 171532.3125\n",
      "time: 35, loss on data: 170799.4375, loss on validate: 170807.5625\n",
      "time: 36, loss on data: 170089.109375, loss on validate: 170091.359375\n",
      "time: 37, loss on data: 169362.921875, loss on validate: 169376.828125\n",
      "time: 38, loss on data: 168665.0625, loss on validate: 168658.109375\n",
      "time: 39, loss on data: 167941.984375, loss on validate: 167949.265625\n",
      "time: 40, loss on data: 167250.1875, loss on validate: 167242.65625\n",
      "time: 41, loss on data: 166530.4375, loss on validate: 166538.328125\n",
      "time: 42, loss on data: 165844.265625, loss on validate: 165843.859375\n",
      "time: 43, loss on data: 165128.28125, loss on validate: 165145.03125\n",
      "time: 44, loss on data: 164453.84375, loss on validate: 164447.921875\n",
      "time: 45, loss on data: 163743.515625, loss on validate: 163758.59375\n",
      "time: 46, loss on data: 163060.515625, loss on validate: 163067.828125\n",
      "time: 47, loss on data: 162382.109375, loss on validate: 162385.1875\n",
      "time: 48, loss on data: 161688.65625, loss on validate: 161703.390625\n",
      "time: 49, loss on data: 161012.59375, loss on validate: 161026.359375\n",
      "time: 50, loss on data: 160348.015625, loss on validate: 160342.578125\n",
      "time: 51, loss on data: 159675.3125, loss on validate: 159668.6875\n",
      "time: 52, loss on data: 158990.5, loss on validate: 159003.375\n",
      "time: 53, loss on data: 158320.21875, loss on validate: 158334.640625\n",
      "time: 54, loss on data: 157664.25, loss on validate: 157668.34375\n",
      "time: 55, loss on data: 157010.140625, loss on validate: 157003.671875\n",
      "time: 56, loss on data: 156346.375, loss on validate: 156346.75\n",
      "time: 57, loss on data: 155694.5, loss on validate: 155685.28125\n",
      "time: 58, loss on data: 155020.046875, loss on validate: 155036.796875\n",
      "time: 59, loss on data: 154373.84375, loss on validate: 154387.125\n",
      "time: 60, loss on data: 153726.03125, loss on validate: 153733.390625\n",
      "time: 61, loss on data: 153082.3125, loss on validate: 153087.03125\n",
      "time: 62, loss on data: 152440.546875, loss on validate: 152444.984375\n",
      "time: 63, loss on data: 151799.734375, loss on validate: 151804.171875\n",
      "time: 64, loss on data: 151161.046875, loss on validate: 151167.84375\n",
      "time: 65, loss on data: 150526.25, loss on validate: 150538.890625\n",
      "time: 66, loss on data: 149889.75, loss on validate: 149905.625\n",
      "time: 67, loss on data: 149280.203125, loss on validate: 149271.1875\n",
      "time: 68, loss on data: 148649.015625, loss on validate: 148649.0625\n",
      "time: 69, loss on data: 148030.375, loss on validate: 148020.890625\n",
      "time: 70, loss on data: 147401.234375, loss on validate: 147401.65625\n",
      "time: 71, loss on data: 146770.8125, loss on validate: 146779.4375\n",
      "time: 72, loss on data: 146159.328125, loss on validate: 146163.0625\n",
      "time: 73, loss on data: 145560.6875, loss on validate: 145551.296875\n",
      "time: 74, loss on data: 144952.109375, loss on validate: 144941.421875\n",
      "time: 75, loss on data: 144328.71875, loss on validate: 144332.6875\n",
      "time: 76, loss on data: 143723.0625, loss on validate: 143726.09375\n",
      "time: 77, loss on data: 143128.28125, loss on validate: 143122.90625\n",
      "time: 78, loss on data: 142527.65625, loss on validate: 142526.546875\n",
      "time: 79, loss on data: 141909.828125, loss on validate: 141927.34375\n",
      "time: 80, loss on data: 141333.546875, loss on validate: 141328.5\n",
      "time: 81, loss on data: 140737.015625, loss on validate: 140739.59375\n",
      "time: 82, loss on data: 140138.28125, loss on validate: 140143.875\n",
      "time: 83, loss on data: 139568.71875, loss on validate: 139557.828125\n",
      "time: 84, loss on data: 138958.96875, loss on validate: 138972.984375\n",
      "time: 85, loss on data: 138391.828125, loss on validate: 138392.53125\n",
      "time: 86, loss on data: 137797.578125, loss on validate: 137806.265625\n",
      "time: 87, loss on data: 137231.96875, loss on validate: 137228.15625\n",
      "time: 88, loss on data: 136643.96875, loss on validate: 136652.671875\n",
      "time: 89, loss on data: 136079.890625, loss on validate: 136077.4375\n",
      "time: 90, loss on data: 135498.1875, loss on validate: 135511.6875\n",
      "time: 91, loss on data: 134936.6875, loss on validate: 134942.9375\n",
      "time: 92, loss on data: 134370.015625, loss on validate: 134371.5625\n",
      "time: 93, loss on data: 133814.203125, loss on validate: 133813.3125\n",
      "time: 94, loss on data: 133254.90625, loss on validate: 133247.875\n",
      "time: 95, loss on data: 132679.078125, loss on validate: 132692.28125\n",
      "time: 96, loss on data: 132139.921875, loss on validate: 132133.5\n",
      "time: 97, loss on data: 131566.6875, loss on validate: 131580.171875\n",
      "time: 98, loss on data: 131014.3125, loss on validate: 131027.71875\n",
      "time: 99, loss on data: 130481.921875, loss on validate: 130480.171875\n",
      "time: 100, loss on data: 129928.0, loss on validate: 129927.0703125\n",
      "time: 101, loss on data: 129377.625, loss on validate: 129382.4609375\n",
      "time: 102, loss on data: 128833.8125, loss on validate: 128845.5546875\n",
      "time: 103, loss on data: 128304.6796875, loss on validate: 128303.5546875\n",
      "time: 104, loss on data: 127758.9921875, loss on validate: 127765.8359375\n",
      "time: 105, loss on data: 127231.3671875, loss on validate: 127225.6953125\n",
      "time: 106, loss on data: 126687.5, loss on validate: 126691.796875\n",
      "time: 107, loss on data: 126148.2421875, loss on validate: 126164.328125\n",
      "time: 108, loss on data: 125623.8828125, loss on validate: 125632.1953125\n",
      "time: 109, loss on data: 125105.3828125, loss on validate: 125108.609375\n",
      "time: 110, loss on data: 124582.8359375, loss on validate: 124578.4453125\n",
      "time: 111, loss on data: 124065.890625, loss on validate: 124056.5703125\n",
      "time: 112, loss on data: 123531.25, loss on validate: 123539.7265625\n",
      "time: 113, loss on data: 123016.6328125, loss on validate: 123024.046875\n",
      "time: 114, loss on data: 122501.609375, loss on validate: 122505.8046875\n",
      "time: 115, loss on data: 121988.3359375, loss on validate: 121991.8828125\n",
      "time: 116, loss on data: 121475.921875, loss on validate: 121479.625\n",
      "time: 117, loss on data: 120964.5859375, loss on validate: 120969.4609375\n",
      "time: 118, loss on data: 120454.7890625, loss on validate: 120463.2734375\n",
      "time: 119, loss on data: 119965.1328125, loss on validate: 119954.890625\n",
      "time: 120, loss on data: 119457.15625, loss on validate: 119452.6015625\n",
      "time: 121, loss on data: 118953.3984375, loss on validate: 118951.953125\n",
      "time: 122, loss on data: 118446.7109375, loss on validate: 118451.3828125\n",
      "time: 123, loss on data: 117946.078125, loss on validate: 117957.765625\n",
      "time: 124, loss on data: 117461.953125, loss on validate: 117459.046875\n",
      "time: 125, loss on data: 116963.984375, loss on validate: 116971.5390625\n",
      "time: 126, loss on data: 116472.1015625, loss on validate: 116476.1171875\n",
      "time: 127, loss on data: 115995.4140625, loss on validate: 115986.6875\n",
      "time: 128, loss on data: 115499.1328125, loss on validate: 115502.578125\n",
      "time: 129, loss on data: 115004.390625, loss on validate: 115020.6171875\n",
      "time: 130, loss on data: 114531.4765625, loss on validate: 114538.4296875\n",
      "time: 131, loss on data: 114047.7578125, loss on validate: 114057.9453125\n",
      "time: 132, loss on data: 113576.5546875, loss on validate: 113579.40625\n",
      "time: 133, loss on data: 113106.359375, loss on validate: 113100.6875\n",
      "time: 134, loss on data: 112623.765625, loss on validate: 112624.203125\n",
      "time: 135, loss on data: 112156.15625, loss on validate: 112153.0390625\n",
      "time: 136, loss on data: 111672.609375, loss on validate: 111687.234375\n",
      "time: 137, loss on data: 111213.6171875, loss on validate: 111214.1015625\n",
      "time: 138, loss on data: 110753.6484375, loss on validate: 110750.1796875\n",
      "time: 139, loss on data: 110289.84375, loss on validate: 110283.484375\n",
      "time: 140, loss on data: 109816.171875, loss on validate: 109823.234375\n",
      "time: 141, loss on data: 109354.6328125, loss on validate: 109363.171875\n",
      "time: 142, loss on data: 108898.78125, loss on validate: 108904.4453125\n",
      "time: 143, loss on data: 108449.1953125, loss on validate: 108446.421875\n",
      "time: 144, loss on data: 107990.578125, loss on validate: 107990.3515625\n",
      "time: 145, loss on data: 107543.2109375, loss on validate: 107539.109375\n",
      "time: 146, loss on data: 107090.4296875, loss on validate: 107084.53125\n",
      "time: 147, loss on data: 106644.078125, loss on validate: 106635.9140625\n",
      "time: 148, loss on data: 106194.2890625, loss on validate: 106188.015625\n",
      "time: 149, loss on data: 105749.9921875, loss on validate: 105746.078125\n",
      "time: 150, loss on data: 105302.0546875, loss on validate: 105301.0859375\n",
      "time: 151, loss on data: 104863.2109375, loss on validate: 104860.4921875\n",
      "time: 152, loss on data: 104418.1796875, loss on validate: 104422.0234375\n",
      "time: 153, loss on data: 103975.5234375, loss on validate: 103984.390625\n",
      "time: 154, loss on data: 103538.140625, loss on validate: 103546.921875\n",
      "time: 155, loss on data: 103119.84375, loss on validate: 103111.0703125\n",
      "time: 156, loss on data: 102684.6484375, loss on validate: 102680.3203125\n",
      "time: 157, loss on data: 102243.7265625, loss on validate: 102248.2734375\n",
      "time: 158, loss on data: 101811.109375, loss on validate: 101824.375\n",
      "time: 159, loss on data: 101396.03125, loss on validate: 101394.015625\n",
      "time: 160, loss on data: 100962.921875, loss on validate: 100967.421875\n",
      "time: 161, loss on data: 100532.359375, loss on validate: 100546.9296875\n",
      "time: 162, loss on data: 100126.40625, loss on validate: 100127.2578125\n",
      "time: 163, loss on data: 99695.3203125, loss on validate: 99703.875\n",
      "time: 164, loss on data: 99290.40625, loss on validate: 99285.671875\n",
      "time: 165, loss on data: 98862.046875, loss on validate: 98869.328125\n",
      "time: 166, loss on data: 98458.25, loss on validate: 98453.59375\n",
      "time: 167, loss on data: 98031.4296875, loss on validate: 98040.1484375\n",
      "time: 168, loss on data: 97630.5, loss on validate: 97632.875\n",
      "time: 169, loss on data: 97228.140625, loss on validate: 97219.5859375\n",
      "time: 170, loss on data: 96804.40625, loss on validate: 96813.8359375\n",
      "time: 171, loss on data: 96409.9765625, loss on validate: 96406.25\n",
      "time: 172, loss on data: 96010.9375, loss on validate: 96002.109375\n",
      "time: 173, loss on data: 95589.2578125, loss on validate: 95600.296875\n",
      "time: 174, loss on data: 95197.84375, loss on validate: 95200.5703125\n",
      "time: 175, loss on data: 94800.4375, loss on validate: 94800.0625\n",
      "time: 176, loss on data: 94410.1796875, loss on validate: 94401.734375\n",
      "time: 177, loss on data: 93997.625, loss on validate: 94005.3359375\n",
      "time: 178, loss on data: 93603.4375, loss on validate: 93614.3046875\n",
      "time: 179, loss on data: 93214.6953125, loss on validate: 93219.171875\n",
      "time: 180, loss on data: 92828.265625, loss on validate: 92830.671875\n",
      "time: 181, loss on data: 92442.34375, loss on validate: 92442.9921875\n",
      "time: 182, loss on data: 92055.453125, loss on validate: 92051.2265625\n",
      "time: 183, loss on data: 91670.4453125, loss on validate: 91664.953125\n",
      "time: 184, loss on data: 91286.1640625, loss on validate: 91280.6015625\n",
      "time: 185, loss on data: 90902.7265625, loss on validate: 90898.2734375\n",
      "time: 186, loss on data: 90519.3671875, loss on validate: 90515.4765625\n",
      "time: 187, loss on data: 90138.5625, loss on validate: 90140.7734375\n",
      "time: 188, loss on data: 89756.0546875, loss on validate: 89759.3125\n",
      "time: 189, loss on data: 89376.3125, loss on validate: 89386.203125\n",
      "time: 190, loss on data: 89002.875, loss on validate: 89008.9453125\n",
      "time: 191, loss on data: 88624.0390625, loss on validate: 88637.078125\n",
      "time: 192, loss on data: 88266.71875, loss on validate: 88265.859375\n",
      "time: 193, loss on data: 87896.2109375, loss on validate: 87896.7109375\n",
      "time: 194, loss on data: 87518.9609375, loss on validate: 87528.3984375\n",
      "time: 195, loss on data: 87149.7890625, loss on validate: 87160.9140625\n",
      "time: 196, loss on data: 86794.578125, loss on validate: 86795.1015625\n",
      "time: 197, loss on data: 86425.984375, loss on validate: 86428.8125\n",
      "time: 198, loss on data: 86058.6796875, loss on validate: 86064.9296875\n",
      "time: 199, loss on data: 85706.3828125, loss on validate: 85707.421875\n",
      "time: 200, loss on data: 85339.578125, loss on validate: 85344.6328125\n",
      "time: 201, loss on data: 84995.734375, loss on validate: 84988.109375\n",
      "time: 202, loss on data: 84632.1015625, loss on validate: 84634.203125\n",
      "time: 203, loss on data: 84268.984375, loss on validate: 84279.46875\n",
      "time: 204, loss on data: 83926.2265625, loss on validate: 83926.515625\n",
      "time: 205, loss on data: 83564.4296875, loss on validate: 83574.4296875\n",
      "time: 206, loss on data: 83222.4765625, loss on validate: 83223.1953125\n",
      "time: 207, loss on data: 82862.1875, loss on validate: 82874.15625\n",
      "time: 208, loss on data: 82520.75, loss on validate: 82523.984375\n",
      "time: 209, loss on data: 82182.3984375, loss on validate: 82181.6171875\n",
      "time: 210, loss on data: 81831.1171875, loss on validate: 81834.5078125\n",
      "time: 211, loss on data: 81493.2734375, loss on validate: 81493.40625\n",
      "time: 212, loss on data: 81154.5390625, loss on validate: 81149.3828125\n",
      "time: 213, loss on data: 80806.640625, loss on validate: 80809.71875\n",
      "time: 214, loss on data: 80470.28125, loss on validate: 80472.28125\n",
      "time: 215, loss on data: 80134.515625, loss on validate: 80135.671875\n",
      "time: 216, loss on data: 79788.765625, loss on validate: 79799.6015625\n",
      "time: 217, loss on data: 79453.40625, loss on validate: 79464.359375\n",
      "time: 218, loss on data: 79126.640625, loss on validate: 79129.265625\n",
      "time: 219, loss on data: 78800.8671875, loss on validate: 78796.7109375\n",
      "time: 220, loss on data: 78468.6875, loss on validate: 78468.796875\n",
      "time: 221, loss on data: 78143.65625, loss on validate: 78137.6015625\n",
      "time: 222, loss on data: 77803.3125, loss on validate: 77812.2578125\n",
      "time: 223, loss on data: 77479.375, loss on validate: 77483.8984375\n",
      "time: 224, loss on data: 77157.546875, loss on validate: 77159.9453125\n",
      "time: 225, loss on data: 76827.90625, loss on validate: 76838.21875\n",
      "time: 226, loss on data: 76506.7578125, loss on validate: 76515.5625\n",
      "time: 227, loss on data: 76186.3984375, loss on validate: 76194.8671875\n",
      "time: 228, loss on data: 75866.5078125, loss on validate: 75875.265625\n",
      "time: 229, loss on data: 75547.4296875, loss on validate: 75557.625\n",
      "time: 230, loss on data: 75228.2578125, loss on validate: 75239.0625\n",
      "time: 231, loss on data: 74918.7421875, loss on validate: 74922.7734375\n",
      "time: 232, loss on data: 74602.5546875, loss on validate: 74610.6796875\n",
      "time: 233, loss on data: 74300.9921875, loss on validate: 74295.3203125\n",
      "time: 234, loss on data: 73985.84375, loss on validate: 73986.375\n",
      "time: 235, loss on data: 73678.296875, loss on validate: 73674.2890625\n",
      "time: 236, loss on data: 73363.84375, loss on validate: 73366.1640625\n",
      "time: 237, loss on data: 73050.40625, loss on validate: 73060.40625\n",
      "time: 238, loss on data: 72746.109375, loss on validate: 72753.6328125\n",
      "time: 239, loss on data: 72448.4375, loss on validate: 72448.578125\n",
      "time: 240, loss on data: 72145.125, loss on validate: 72144.671875\n",
      "time: 241, loss on data: 71833.1640625, loss on validate: 71841.6171875\n",
      "time: 242, loss on data: 71531.546875, loss on validate: 71540.828125\n",
      "time: 243, loss on data: 71244.1328125, loss on validate: 71238.5625\n",
      "time: 244, loss on data: 70933.578125, loss on validate: 70938.828125\n",
      "time: 245, loss on data: 70635.484375, loss on validate: 70644.5078125\n",
      "time: 246, loss on data: 70349.3125, loss on validate: 70346.03125\n",
      "time: 247, loss on data: 70042.2890625, loss on validate: 70052.671875\n",
      "time: 248, loss on data: 69759.0, loss on validate: 69759.6640625\n",
      "time: 249, loss on data: 69460.3359375, loss on validate: 69464.9921875\n",
      "time: 250, loss on data: 69177.8828125, loss on validate: 69173.734375\n",
      "time: 251, loss on data: 68882.25, loss on validate: 68884.453125\n",
      "time: 252, loss on data: 68587.625, loss on validate: 68596.1796875\n",
      "time: 253, loss on data: 68305.953125, loss on validate: 68308.1484375\n",
      "time: 254, loss on data: 68024.9140625, loss on validate: 68020.6640625\n",
      "time: 255, loss on data: 67731.5625, loss on validate: 67736.109375\n",
      "time: 256, loss on data: 67453.453125, loss on validate: 67454.375\n",
      "time: 257, loss on data: 67161.09375, loss on validate: 67171.0859375\n",
      "time: 258, loss on data: 66891.3359375, loss on validate: 66887.7578125\n",
      "time: 259, loss on data: 66602.3359375, loss on validate: 66609.6796875\n",
      "time: 260, loss on data: 66323.1484375, loss on validate: 66327.8046875\n",
      "time: 261, loss on data: 66046.9375, loss on validate: 66051.03125\n",
      "time: 262, loss on data: 65769.1796875, loss on validate: 65774.484375\n",
      "time: 263, loss on data: 65491.3359375, loss on validate: 65496.50390625\n",
      "time: 264, loss on data: 65226.5390625, loss on validate: 65223.05078125\n",
      "time: 265, loss on data: 64951.1875, loss on validate: 64948.265625\n",
      "time: 266, loss on data: 64675.86328125, loss on validate: 64676.09375\n",
      "time: 267, loss on data: 64401.4453125, loss on validate: 64404.40234375\n",
      "time: 268, loss on data: 64138.41015625, loss on validate: 64135.19140625\n",
      "time: 269, loss on data: 63867.2578125, loss on validate: 63868.7421875\n",
      "time: 270, loss on data: 63594.37890625, loss on validate: 63600.80859375\n",
      "time: 271, loss on data: 63331.6796875, loss on validate: 63331.5703125\n",
      "time: 272, loss on data: 63061.73046875, loss on validate: 63068.421875\n",
      "time: 273, loss on data: 62800.046875, loss on validate: 62802.19921875\n",
      "time: 274, loss on data: 62541.4453125, loss on validate: 62540.3203125\n",
      "time: 275, loss on data: 62280.515625, loss on validate: 62275.578125\n",
      "time: 276, loss on data: 62012.33203125, loss on validate: 62017.125\n",
      "time: 277, loss on data: 61754.38671875, loss on validate: 61756.79296875\n",
      "time: 278, loss on data: 61494.7109375, loss on validate: 61495.640625\n",
      "time: 279, loss on data: 61238.13671875, loss on validate: 61238.93359375\n",
      "time: 280, loss on data: 60981.64453125, loss on validate: 60982.0859375\n",
      "time: 281, loss on data: 60725.56640625, loss on validate: 60726.1484375\n",
      "time: 282, loss on data: 60469.875, loss on validate: 60471.15625\n",
      "time: 283, loss on data: 60217.03125, loss on validate: 60219.31640625\n",
      "time: 284, loss on data: 59962.55859375, loss on validate: 59967.47265625\n",
      "time: 285, loss on data: 59719.10546875, loss on validate: 59714.08984375\n",
      "time: 286, loss on data: 59465.1171875, loss on validate: 59463.05078125\n",
      "time: 287, loss on data: 59214.34765625, loss on validate: 59216.0859375\n",
      "time: 288, loss on data: 58961.1015625, loss on validate: 58966.37890625\n",
      "time: 289, loss on data: 58710.9921875, loss on validate: 58720.20703125\n",
      "time: 290, loss on data: 58472.52734375, loss on validate: 58474.30859375\n",
      "time: 291, loss on data: 58227.4453125, loss on validate: 58228.765625\n",
      "time: 292, loss on data: 57989.7890625, loss on validate: 57984.1328125\n",
      "time: 293, loss on data: 57741.32421875, loss on validate: 57742.46484375\n",
      "time: 294, loss on data: 57492.78515625, loss on validate: 57499.1796875\n",
      "time: 295, loss on data: 57256.96484375, loss on validate: 57258.65234375\n",
      "time: 296, loss on data: 57015.19921875, loss on validate: 57018.5546875\n",
      "time: 297, loss on data: 56779.8203125, loss on validate: 56778.86328125\n",
      "time: 298, loss on data: 56533.765625, loss on validate: 56542.0390625\n",
      "time: 299, loss on data: 56304.1875, loss on validate: 56303.5546875\n",
      "time: 300, loss on data: 56070.7421875, loss on validate: 56068.1328125\n",
      "time: 301, loss on data: 55827.765625, loss on validate: 55833.1484375\n",
      "time: 302, loss on data: 55595.203125, loss on validate: 55599.0390625\n",
      "time: 303, loss on data: 55367.0625, loss on validate: 55365.296875\n",
      "time: 304, loss on data: 55125.83203125, loss on validate: 55134.42578125\n",
      "time: 305, loss on data: 54897.78515625, loss on validate: 54901.58984375\n",
      "time: 306, loss on data: 54669.359375, loss on validate: 54671.33984375\n",
      "time: 307, loss on data: 54442.421875, loss on validate: 54444.75\n",
      "time: 308, loss on data: 54214.91015625, loss on validate: 54213.57421875\n",
      "time: 309, loss on data: 53988.5546875, loss on validate: 53987.62890625\n",
      "time: 310, loss on data: 53764.53515625, loss on validate: 53760.0390625\n",
      "time: 311, loss on data: 53538.875, loss on validate: 53534.9296875\n",
      "time: 312, loss on data: 53315.79296875, loss on validate: 53310.5859375\n",
      "time: 313, loss on data: 53090.91796875, loss on validate: 53086.828125\n",
      "time: 314, loss on data: 52868.2421875, loss on validate: 52863.87890625\n",
      "time: 315, loss on data: 52644.7890625, loss on validate: 52643.54296875\n",
      "time: 316, loss on data: 52425.50390625, loss on validate: 52423.234375\n",
      "time: 317, loss on data: 52202.88671875, loss on validate: 52204.1484375\n",
      "time: 318, loss on data: 51980.88671875, loss on validate: 51983.37890625\n",
      "time: 319, loss on data: 51762.828125, loss on validate: 51766.7890625\n",
      "time: 320, loss on data: 51541.33984375, loss on validate: 51549.55859375\n",
      "time: 321, loss on data: 51333.609375, loss on validate: 51332.66796875\n",
      "time: 322, loss on data: 51115.9453125, loss on validate: 51117.65234375\n",
      "time: 323, loss on data: 50898.70703125, loss on validate: 50903.0703125\n",
      "time: 324, loss on data: 50692.5, loss on validate: 50690.66015625\n",
      "time: 325, loss on data: 50475.75, loss on validate: 50477.4453125\n",
      "time: 326, loss on data: 50260.22265625, loss on validate: 50267.32421875\n",
      "time: 327, loss on data: 50056.9921875, loss on validate: 50054.671875\n",
      "time: 328, loss on data: 49842.05859375, loss on validate: 49845.88671875\n",
      "time: 329, loss on data: 49636.86328125, loss on validate: 49636.2265625\n",
      "time: 330, loss on data: 49422.34375, loss on validate: 49428.18359375\n",
      "time: 331, loss on data: 49220.88671875, loss on validate: 49220.39453125\n",
      "time: 332, loss on data: 49010.28125, loss on validate: 49014.1640625\n",
      "time: 333, loss on data: 48810.140625, loss on validate: 48810.671875\n",
      "time: 334, loss on data: 48596.9375, loss on validate: 48604.68359375\n",
      "time: 335, loss on data: 48396.203125, loss on validate: 48398.984375\n",
      "time: 336, loss on data: 48200.203125, loss on validate: 48197.60546875\n",
      "time: 337, loss on data: 47988.69921875, loss on validate: 47996.3203125\n",
      "time: 338, loss on data: 47789.37109375, loss on validate: 47794.5703125\n",
      "time: 339, loss on data: 47594.08203125, loss on validate: 47594.84765625\n",
      "time: 340, loss on data: 47395.6953125, loss on validate: 47395.2890625\n",
      "time: 341, loss on data: 47188.67578125, loss on validate: 47196.171875\n",
      "time: 342, loss on data: 46993.8671875, loss on validate: 46997.2109375\n",
      "time: 343, loss on data: 46796.8046875, loss on validate: 46801.875\n",
      "time: 344, loss on data: 46602.62890625, loss on validate: 46604.27734375\n",
      "time: 345, loss on data: 46409.65625, loss on validate: 46410.31640625\n",
      "time: 346, loss on data: 46216.10546875, loss on validate: 46213.95703125\n",
      "time: 347, loss on data: 46023.48828125, loss on validate: 46020.5703125\n",
      "time: 348, loss on data: 45831.2109375, loss on validate: 45828.05859375\n",
      "time: 349, loss on data: 45639.140625, loss on validate: 45635.9453125\n",
      "time: 350, loss on data: 45447.21484375, loss on validate: 45444.08984375\n",
      "time: 351, loss on data: 45255.70703125, loss on validate: 45253.40234375\n",
      "time: 352, loss on data: 45065.09375, loss on validate: 45065.4921875\n",
      "time: 353, loss on data: 44873.9765625, loss on validate: 44875.515625\n",
      "time: 354, loss on data: 44683.05078125, loss on validate: 44685.81640625\n",
      "time: 355, loss on data: 44497.1171875, loss on validate: 44499.5859375\n",
      "time: 356, loss on data: 44307.8515625, loss on validate: 44314.59765625\n",
      "time: 357, loss on data: 44129.6875, loss on validate: 44129.01171875\n",
      "time: 358, loss on data: 43943.515625, loss on validate: 43941.42578125\n",
      "time: 359, loss on data: 43754.6796875, loss on validate: 43757.34375\n",
      "time: 360, loss on data: 43569.98828125, loss on validate: 43573.48046875\n",
      "time: 361, loss on data: 43393.5859375, loss on validate: 43393.1953125\n",
      "time: 362, loss on data: 43209.3984375, loss on validate: 43210.80078125\n",
      "time: 363, loss on data: 43025.50390625, loss on validate: 43028.6328125\n",
      "time: 364, loss on data: 42849.4921875, loss on validate: 42849.23828125\n",
      "time: 365, loss on data: 42666.1328125, loss on validate: 42668.54296875\n",
      "time: 366, loss on data: 42483.98046875, loss on validate: 42490.58203125\n",
      "time: 367, loss on data: 42312.44921875, loss on validate: 42312.875\n",
      "time: 368, loss on data: 42130.859375, loss on validate: 42136.23828125\n",
      "time: 369, loss on data: 41958.91796875, loss on validate: 41956.94140625\n",
      "time: 370, loss on data: 41777.7109375, loss on validate: 41780.92578125\n",
      "time: 371, loss on data: 41608.02734375, loss on validate: 41608.19140625\n",
      "time: 372, loss on data: 41427.51953125, loss on validate: 41433.66796875\n",
      "time: 373, loss on data: 41257.0625, loss on validate: 41258.546875\n",
      "time: 374, loss on data: 41087.1484375, loss on validate: 41084.73828125\n",
      "time: 375, loss on data: 40908.16796875, loss on validate: 40914.0703125\n",
      "time: 376, loss on data: 40742.62109375, loss on validate: 40740.76171875\n",
      "time: 377, loss on data: 40574.09375, loss on validate: 40570.70703125\n",
      "time: 378, loss on data: 40396.0078125, loss on validate: 40401.84765625\n",
      "time: 379, loss on data: 40231.921875, loss on validate: 40232.30859375\n",
      "time: 380, loss on data: 40064.08984375, loss on validate: 40064.04296875\n",
      "time: 381, loss on data: 39890.9375, loss on validate: 39895.98046875\n",
      "time: 382, loss on data: 39723.56640625, loss on validate: 39729.10546875\n",
      "time: 383, loss on data: 39560.40625, loss on validate: 39561.75390625\n",
      "time: 384, loss on data: 39397.4296875, loss on validate: 39394.578125\n",
      "time: 385, loss on data: 39231.54296875, loss on validate: 39231.37109375\n",
      "time: 386, loss on data: 39069.10546875, loss on validate: 39065.74609375\n",
      "time: 387, loss on data: 38898.68359375, loss on validate: 38903.2265625\n",
      "time: 388, loss on data: 38736.609375, loss on validate: 38738.29296875\n",
      "time: 389, loss on data: 38571.578125, loss on validate: 38577.265625\n",
      "time: 390, loss on data: 38410.8359375, loss on validate: 38415.5\n",
      "time: 391, loss on data: 38250.54296875, loss on validate: 38254.92578125\n",
      "time: 392, loss on data: 38090.44140625, loss on validate: 38094.78125\n",
      "time: 393, loss on data: 37930.47265625, loss on validate: 37934.81640625\n",
      "time: 394, loss on data: 37770.71484375, loss on validate: 37775.359375\n",
      "time: 395, loss on data: 37611.36328125, loss on validate: 37616.96875\n",
      "time: 396, loss on data: 37456.50390625, loss on validate: 37457.921875\n",
      "time: 397, loss on data: 37298.6015625, loss on validate: 37302.6640625\n",
      "time: 398, loss on data: 37148.125, loss on validate: 37145.1484375\n",
      "time: 399, loss on data: 36990.42578125, loss on validate: 36990.5546875\n",
      "time: 400, loss on data: 36836.53515625, loss on validate: 36833.75\n",
      "time: 401, loss on data: 36679.515625, loss on validate: 36680.68359375\n",
      "time: 402, loss on data: 36522.41015625, loss on validate: 36526.85546875\n",
      "time: 403, loss on data: 36370.50390625, loss on validate: 36374.21875\n",
      "time: 404, loss on data: 36220.76171875, loss on validate: 36219.54296875\n",
      "time: 405, loss on data: 36070.3046875, loss on validate: 36070.046875\n",
      "time: 406, loss on data: 35914.1015625, loss on validate: 35918.265625\n",
      "time: 407, loss on data: 35763.29296875, loss on validate: 35767.91796875\n",
      "time: 408, loss on data: 35619.84375, loss on validate: 35616.7421875\n",
      "time: 409, loss on data: 35464.4375, loss on validate: 35467.140625\n",
      "time: 410, loss on data: 35315.32421875, loss on validate: 35319.8671875\n",
      "time: 411, loss on data: 35172.484375, loss on validate: 35170.63671875\n",
      "time: 412, loss on data: 35018.8203125, loss on validate: 35024.1796875\n",
      "time: 413, loss on data: 34877.38671875, loss on validate: 34877.703125\n",
      "time: 414, loss on data: 34727.953125, loss on validate: 34730.3515625\n",
      "time: 415, loss on data: 34586.86328125, loss on validate: 34584.546875\n",
      "time: 416, loss on data: 34439.0078125, loss on validate: 34440.20703125\n",
      "time: 417, loss on data: 34291.5546875, loss on validate: 34296.01171875\n",
      "time: 418, loss on data: 34150.91015625, loss on validate: 34152.078125\n",
      "time: 419, loss on data: 34010.49609375, loss on validate: 34008.25390625\n",
      "time: 420, loss on data: 33863.37890625, loss on validate: 33865.00390625\n",
      "time: 421, loss on data: 33724.75, loss on validate: 33725.21484375\n",
      "time: 422, loss on data: 33578.3671875, loss on validate: 33583.37109375\n",
      "time: 423, loss on data: 33443.4921875, loss on validate: 33440.87109375\n",
      "time: 424, loss on data: 33298.86328125, loss on validate: 33301.9140625\n",
      "time: 425, loss on data: 33159.55859375, loss on validate: 33161.9453125\n",
      "time: 426, loss on data: 33021.51171875, loss on validate: 33023.6015625\n",
      "time: 427, loss on data: 32882.6015625, loss on validate: 32885.18359375\n",
      "time: 428, loss on data: 32743.7109375, loss on validate: 32746.412109375\n",
      "time: 429, loss on data: 32611.17578125, loss on validate: 32608.607421875\n",
      "time: 430, loss on data: 32473.826171875, loss on validate: 32472.322265625\n",
      "time: 431, loss on data: 32336.119140625, loss on validate: 32336.275390625\n",
      "time: 432, loss on data: 32198.86328125, loss on validate: 32200.421875\n",
      "time: 433, loss on data: 32067.470703125, loss on validate: 32065.84765625\n",
      "time: 434, loss on data: 31931.85546875, loss on validate: 31932.58984375\n",
      "time: 435, loss on data: 31795.359375, loss on validate: 31798.671875\n",
      "time: 436, loss on data: 31664.125, loss on validate: 31664.111328125\n",
      "time: 437, loss on data: 31529.05078125, loss on validate: 31532.513671875\n",
      "time: 438, loss on data: 31398.298828125, loss on validate: 31399.453125\n",
      "time: 439, loss on data: 31269.08984375, loss on validate: 31268.552734375\n",
      "time: 440, loss on data: 31138.66015625, loss on validate: 31136.15234375\n",
      "time: 441, loss on data: 31004.453125, loss on validate: 31006.96484375\n",
      "time: 442, loss on data: 30875.55078125, loss on validate: 30876.80859375\n",
      "time: 443, loss on data: 30745.71484375, loss on validate: 30746.21875\n",
      "time: 444, loss on data: 30617.392578125, loss on validate: 30617.634765625\n",
      "time: 445, loss on data: 30489.21875, loss on validate: 30489.4296875\n",
      "time: 446, loss on data: 30361.20703125, loss on validate: 30361.541015625\n",
      "time: 447, loss on data: 30233.337890625, loss on validate: 30233.9921875\n",
      "time: 448, loss on data: 30106.96875, loss on validate: 30108.173828125\n",
      "time: 449, loss on data: 29979.712890625, loss on validate: 29982.25390625\n",
      "time: 450, loss on data: 29858.0234375, loss on validate: 29855.267578125\n",
      "time: 451, loss on data: 29731.072265625, loss on validate: 29730.060546875\n",
      "time: 452, loss on data: 29605.65625, loss on validate: 29606.599609375\n",
      "time: 453, loss on data: 29478.955078125, loss on validate: 29481.744140625\n",
      "time: 454, loss on data: 29353.908203125, loss on validate: 29358.6953125\n",
      "time: 455, loss on data: 29234.845703125, loss on validate: 29235.78515625\n",
      "time: 456, loss on data: 29111.892578125, loss on validate: 29111.7265625\n",
      "time: 457, loss on data: 28987.62109375, loss on validate: 28990.701171875\n",
      "time: 458, loss on data: 28869.23046875, loss on validate: 28869.818359375\n",
      "time: 459, loss on data: 28744.86328125, loss on validate: 28748.171875\n",
      "time: 460, loss on data: 28627.0078125, loss on validate: 28627.689453125\n",
      "time: 461, loss on data: 28506.173828125, loss on validate: 28507.966796875\n",
      "time: 462, loss on data: 28388.583984375, loss on validate: 28388.142578125\n",
      "time: 463, loss on data: 28265.41796875, loss on validate: 28269.74609375\n",
      "time: 464, loss on data: 28150.771484375, loss on validate: 28150.490234375\n",
      "time: 465, loss on data: 28034.087890625, loss on validate: 28032.783203125\n",
      "time: 466, loss on data: 27912.484375, loss on validate: 27915.32421875\n",
      "time: 467, loss on data: 27796.267578125, loss on validate: 27798.28125\n",
      "time: 468, loss on data: 27682.255859375, loss on validate: 27681.39453125\n",
      "time: 469, loss on data: 27561.52734375, loss on validate: 27566.01171875\n",
      "time: 470, loss on data: 27447.576171875, loss on validate: 27449.556640625\n",
      "time: 471, loss on data: 27333.376953125, loss on validate: 27334.474609375\n",
      "time: 472, loss on data: 27219.56640625, loss on validate: 27219.859375\n",
      "time: 473, loss on data: 27106.23046875, loss on validate: 27105.58984375\n",
      "time: 474, loss on data: 26993.0546875, loss on validate: 26992.62890625\n",
      "time: 475, loss on data: 26881.125, loss on validate: 26878.861328125\n",
      "time: 476, loss on data: 26768.224609375, loss on validate: 26766.220703125\n",
      "time: 477, loss on data: 26656.779296875, loss on validate: 26654.154296875\n",
      "time: 478, loss on data: 26544.30859375, loss on validate: 26542.275390625\n",
      "time: 479, loss on data: 26433.0078125, loss on validate: 26430.8125\n",
      "time: 480, loss on data: 26321.251953125, loss on validate: 26320.67578125\n",
      "time: 481, loss on data: 26211.65625, loss on validate: 26210.5234375\n",
      "time: 482, loss on data: 26100.291015625, loss on validate: 26100.99609375\n",
      "time: 483, loss on data: 25989.25390625, loss on validate: 25990.591796875\n",
      "time: 484, loss on data: 25880.240234375, loss on validate: 25882.345703125\n",
      "time: 485, loss on data: 25769.462890625, loss on validate: 25773.724609375\n",
      "time: 486, loss on data: 25665.71875, loss on validate: 25665.29296875\n",
      "time: 487, loss on data: 25556.849609375, loss on validate: 25557.78515625\n",
      "time: 488, loss on data: 25448.1796875, loss on validate: 25450.4921875\n",
      "time: 489, loss on data: 25345.23046875, loss on validate: 25344.34765625\n",
      "time: 490, loss on data: 25236.779296875, loss on validate: 25237.701171875\n",
      "time: 491, loss on data: 25128.951171875, loss on validate: 25132.646484375\n",
      "time: 492, loss on data: 25027.4765625, loss on validate: 25026.341796875\n",
      "time: 493, loss on data: 24919.939453125, loss on validate: 24921.966796875\n",
      "time: 494, loss on data: 24817.423828125, loss on validate: 24817.12890625\n",
      "time: 495, loss on data: 24710.068359375, loss on validate: 24713.1171875\n",
      "time: 496, loss on data: 24611.197265625, loss on validate: 24609.833984375\n",
      "time: 497, loss on data: 24504.0625, loss on validate: 24506.123046875\n",
      "time: 498, loss on data: 24404.09765625, loss on validate: 24404.419921875\n",
      "time: 499, loss on data: 24297.451171875, loss on validate: 24301.419921875\n"
     ]
    }
   ],
   "source": [
    "optimize(num_iterations=500)"
   ]
  },
  {
   "cell_type": "code",
   "execution_count": 27,
   "metadata": {
    "collapsed": false,
    "deletable": true,
    "editable": true
   },
   "outputs": [
    {
     "data": {
      "image/png": "[encoded data removed]",
      "text/plain": [
       "<matplotlib.figure.Figure at 0x22fd618a668>"
      ]
     },
     "metadata": {},
     "output_type": "display_data"
    }
   ],
   "source": [
    "fig = plt.figure()\n",
    "plt.plot(range(len(acc_test)),acc_test,'r')\n",
    "plt.plot(range(len(acc_validate)),acc_validate,'b')\n",
    "plt.ylabel('loss')\n",
    "#plt.title('accuracy on validate data')\n",
    "plt.show()\n",
    "fig.savefig('GD_acc_crossvalidate1000nodes_alpha000001reg05.png')"
   ]
  },
  {
   "cell_type": "code",
   "execution_count": 28,
   "metadata": {
    "collapsed": false,
    "deletable": true,
    "editable": true
   },
   "outputs": [
    {
     "data": {
      "image/png": "[encoded data removed]",
      "text/plain": [
       "<matplotlib.figure.Figure at 0x22fd618a588>"
      ]
     },
     "metadata": {},
     "output_type": "display_data"
    }
   ],
   "source": [
    "fig = plt.figure()\n",
    "plt.plot(range(len(err_test)),err_test,'r')\n",
    "plt.plot(range(len(err_validate)),err_validate,'b')\n",
    "plt.ylabel('loss')\n",
    "#plt.title('accuracy on validate data')\n",
    "plt.show()\n",
    "fig.savefig('GD_loss_crossvalidate1000nodes_alpha000001reg05.png')"
   ]
  },
  {
   "cell_type": "code",
   "execution_count": null,
   "metadata": {
    "collapsed": true,
    "deletable": true,
    "editable": true
   },
   "outputs": [],
   "source": []
  }
 ],
 "metadata": {
  "kernelspec": {
   "display_name": "Python 3",
   "language": "python",
   "name": "python3"
  },
  "language_info": {
   "codemirror_mode": {
    "name": "ipython",
    "version": 3
   },
   "file_extension": ".py",
   "mimetype": "text/x-python",
   "name": "python",
   "nbconvert_exporter": "python",
   "pygments_lexer": "ipython3",
   "version": "3.5.2"
  }
 },
 "nbformat": 4,
 "nbformat_minor": 2
}
