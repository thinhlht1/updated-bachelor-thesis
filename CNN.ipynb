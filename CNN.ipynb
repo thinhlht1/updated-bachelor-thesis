{
 "cells": [
  {
   "cell_type": "code",
   "execution_count": 1,
   "metadata": {
    "collapsed": false,
    "deletable": true,
    "editable": true
   },
   "outputs": [],
   "source": [
    "import numpy as np\n",
    "import pandas as pd\n",
    "import tensorflow as tf\n",
    "import matplotlib.pyplot as plt"
   ]
  },
  {
   "cell_type": "code",
   "execution_count": 2,
   "metadata": {
    "collapsed": false,
    "deletable": true,
    "editable": true
   },
   "outputs": [],
   "source": [
    "train = pd.read_csv('mnist_train.csv')\n",
    "test = pd.read_csv('mnist_test.csv')"
   ]
  },
  {
   "cell_type": "code",
   "execution_count": 3,
   "metadata": {
    "collapsed": false,
    "deletable": true,
    "editable": true
   },
   "outputs": [
    {
     "data": {
      "text/html": [
       "<div>\n",
       "<table border=\"1\" class=\"dataframe\">\n",
       "  <thead>\n",
       "    <tr style=\"text-align: right;\">\n",
       "      <th></th>\n",
       "      <th>5</th>\n",
       "      <th>0</th>\n",
       "      <th>0.1</th>\n",
       "      <th>0.2</th>\n",
       "      <th>0.3</th>\n",
       "      <th>0.4</th>\n",
       "      <th>0.5</th>\n",
       "      <th>0.6</th>\n",
       "      <th>0.7</th>\n",
       "      <th>0.8</th>\n",
       "      <th>...</th>\n",
       "      <th>0.608</th>\n",
       "      <th>0.609</th>\n",
       "      <th>0.610</th>\n",
       "      <th>0.611</th>\n",
       "      <th>0.612</th>\n",
       "      <th>0.613</th>\n",
       "      <th>0.614</th>\n",
       "      <th>0.615</th>\n",
       "      <th>0.616</th>\n",
       "      <th>0.617</th>\n",
       "    </tr>\n",
       "  </thead>\n",
       "  <tbody>\n",
       "    <tr>\n",
       "      <th>0</th>\n",
       "      <td>0</td>\n",
       "      <td>0</td>\n",
       "      <td>0</td>\n",
       "      <td>0</td>\n",
       "      <td>0</td>\n",
       "      <td>0</td>\n",
       "      <td>0</td>\n",
       "      <td>0</td>\n",
       "      <td>0</td>\n",
       "      <td>0</td>\n",
       "      <td>...</td>\n",
       "      <td>0</td>\n",
       "      <td>0</td>\n",
       "      <td>0</td>\n",
       "      <td>0</td>\n",
       "      <td>0</td>\n",
       "      <td>0</td>\n",
       "      <td>0</td>\n",
       "      <td>0</td>\n",
       "      <td>0</td>\n",
       "      <td>0</td>\n",
       "    </tr>\n",
       "    <tr>\n",
       "      <th>1</th>\n",
       "      <td>4</td>\n",
       "      <td>0</td>\n",
       "      <td>0</td>\n",
       "      <td>0</td>\n",
       "      <td>0</td>\n",
       "      <td>0</td>\n",
       "      <td>0</td>\n",
       "      <td>0</td>\n",
       "      <td>0</td>\n",
       "      <td>0</td>\n",
       "      <td>...</td>\n",
       "      <td>0</td>\n",
       "      <td>0</td>\n",
       "      <td>0</td>\n",
       "      <td>0</td>\n",
       "      <td>0</td>\n",
       "      <td>0</td>\n",
       "      <td>0</td>\n",
       "      <td>0</td>\n",
       "      <td>0</td>\n",
       "      <td>0</td>\n",
       "    </tr>\n",
       "    <tr>\n",
       "      <th>2</th>\n",
       "      <td>1</td>\n",
       "      <td>0</td>\n",
       "      <td>0</td>\n",
       "      <td>0</td>\n",
       "      <td>0</td>\n",
       "      <td>0</td>\n",
       "      <td>0</td>\n",
       "      <td>0</td>\n",
       "      <td>0</td>\n",
       "      <td>0</td>\n",
       "      <td>...</td>\n",
       "      <td>0</td>\n",
       "      <td>0</td>\n",
       "      <td>0</td>\n",
       "      <td>0</td>\n",
       "      <td>0</td>\n",
       "      <td>0</td>\n",
       "      <td>0</td>\n",
       "      <td>0</td>\n",
       "      <td>0</td>\n",
       "      <td>0</td>\n",
       "    </tr>\n",
       "    <tr>\n",
       "      <th>3</th>\n",
       "      <td>9</td>\n",
       "      <td>0</td>\n",
       "      <td>0</td>\n",
       "      <td>0</td>\n",
       "      <td>0</td>\n",
       "      <td>0</td>\n",
       "      <td>0</td>\n",
       "      <td>0</td>\n",
       "      <td>0</td>\n",
       "      <td>0</td>\n",
       "      <td>...</td>\n",
       "      <td>0</td>\n",
       "      <td>0</td>\n",
       "      <td>0</td>\n",
       "      <td>0</td>\n",
       "      <td>0</td>\n",
       "      <td>0</td>\n",
       "      <td>0</td>\n",
       "      <td>0</td>\n",
       "      <td>0</td>\n",
       "      <td>0</td>\n",
       "    </tr>\n",
       "    <tr>\n",
       "      <th>4</th>\n",
       "      <td>2</td>\n",
       "      <td>0</td>\n",
       "      <td>0</td>\n",
       "      <td>0</td>\n",
       "      <td>0</td>\n",
       "      <td>0</td>\n",
       "      <td>0</td>\n",
       "      <td>0</td>\n",
       "      <td>0</td>\n",
       "      <td>0</td>\n",
       "      <td>...</td>\n",
       "      <td>0</td>\n",
       "      <td>0</td>\n",
       "      <td>0</td>\n",
       "      <td>0</td>\n",
       "      <td>0</td>\n",
       "      <td>0</td>\n",
       "      <td>0</td>\n",
       "      <td>0</td>\n",
       "      <td>0</td>\n",
       "      <td>0</td>\n",
       "    </tr>\n",
       "  </tbody>\n",
       "</table>\n",
       "<p>5 rows × 785 columns</p>\n",
       "</div>"
      ],
      "text/plain": [
       "   5  0  0.1  0.2  0.3  0.4  0.5  0.6  0.7  0.8  ...    0.608  0.609  0.610  \\\n",
       "0  0  0    0    0    0    0    0    0    0    0  ...        0      0      0   \n",
       "1  4  0    0    0    0    0    0    0    0    0  ...        0      0      0   \n",
       "2  1  0    0    0    0    0    0    0    0    0  ...        0      0      0   \n",
       "3  9  0    0    0    0    0    0    0    0    0  ...        0      0      0   \n",
       "4  2  0    0    0    0    0    0    0    0    0  ...        0      0      0   \n",
       "\n",
       "   0.611  0.612  0.613  0.614  0.615  0.616  0.617  \n",
       "0      0      0      0      0      0      0      0  \n",
       "1      0      0      0      0      0      0      0  \n",
       "2      0      0      0      0      0      0      0  \n",
       "3      0      0      0      0      0      0      0  \n",
       "4      0      0      0      0      0      0      0  \n",
       "\n",
       "[5 rows x 785 columns]"
      ]
     },
     "execution_count": 3,
     "metadata": {},
     "output_type": "execute_result"
    }
   ],
   "source": [
    "train.head()"
   ]
  },
  {
   "cell_type": "code",
   "execution_count": 4,
   "metadata": {
    "collapsed": false,
    "deletable": true,
    "editable": true
   },
   "outputs": [],
   "source": [
    "dict_x_train = train.ix[:,'0':]\n",
    "pixel_train = dict_x_train.as_matrix()\n",
    "dict_y_train = train.ix[:,'5']\n",
    "label = dict_y_train.as_matrix()\n",
    "\n",
    "dict_x_test = test.ix[:,'0':]\n",
    "pixel_test = dict_x_test.as_matrix()\n",
    "dict_y_test = test.ix[:,'7']\n",
    "label_test = dict_y_test.as_matrix()"
   ]
  },
  {
   "cell_type": "code",
   "execution_count": 5,
   "metadata": {
    "collapsed": false,
    "deletable": true,
    "editable": true
   },
   "outputs": [
    {
     "data": {
      "text/plain": [
       "(9999, 784)"
      ]
     },
     "execution_count": 5,
     "metadata": {},
     "output_type": "execute_result"
    }
   ],
   "source": [
    "np.shape(pixel_test)"
   ]
  },
  {
   "cell_type": "code",
   "execution_count": 6,
   "metadata": {
    "collapsed": false,
    "deletable": true,
    "editable": true
   },
   "outputs": [],
   "source": [
    "mean_train = np.mean(pixel_train,axis = 1)\n",
    "std_train = np.std(pixel_train,axis = 1)\n",
    "\n",
    "mean_test = np.mean(pixel_test,axis = 1)\n",
    "std_test = np.std(pixel_test,axis = 1)"
   ]
  },
  {
   "cell_type": "markdown",
   "metadata": {
    "deletable": true,
    "editable": true
   },
   "source": [
    "Pre-processing the data. np.tile create matrix with duplicated rows or columns"
   ]
  },
  {
   "cell_type": "code",
   "execution_count": 7,
   "metadata": {
    "collapsed": false,
    "deletable": true,
    "editable": true
   },
   "outputs": [],
   "source": [
    "mean_temp_train = np.tile(mean_train,[784,1])\n",
    "mean_temp_train = mean_temp_train.transpose()\n",
    "\n",
    "std_temp_train = np.tile(std_train,[784,1])\n",
    "std_temp_train = std_temp_train.transpose()\n",
    "\n",
    "\n",
    "mean_temp_test = np.tile(mean_test,[784,1])\n",
    "mean_temp_test = mean_temp_test.transpose()\n",
    "\n",
    "std_temp_test = np.tile(std_test,[784,1])\n",
    "std_temp_test = std_temp_test.transpose()"
   ]
  },
  {
   "cell_type": "code",
   "execution_count": 8,
   "metadata": {
    "collapsed": false,
    "deletable": true,
    "editable": true
   },
   "outputs": [],
   "source": [
    "zero_mean_train = pixel_train - mean_temp_train\n",
    "data = zero_mean_train/std_temp_train\n",
    "\n",
    "\n",
    "zero_mean_test = pixel_test - mean_temp_test\n",
    "test_data = zero_mean_test/std_temp_test"
   ]
  },
  {
   "cell_type": "code",
   "execution_count": 9,
   "metadata": {
    "collapsed": false,
    "deletable": true,
    "editable": true
   },
   "outputs": [
    {
     "data": {
      "text/plain": [
       "(59999, 785)"
      ]
     },
     "execution_count": 9,
     "metadata": {},
     "output_type": "execute_result"
    }
   ],
   "source": [
    "np.shape(train)"
   ]
  },
  {
   "cell_type": "code",
   "execution_count": 10,
   "metadata": {
    "collapsed": false,
    "deletable": true,
    "editable": true
   },
   "outputs": [],
   "source": [
    "train_data = data"
   ]
  },
  {
   "cell_type": "code",
   "execution_count": 11,
   "metadata": {
    "collapsed": true,
    "deletable": true,
    "editable": true
   },
   "outputs": [],
   "source": [
    "data = train_data[0:42000,:]\n",
    "validate = train_data[42001:54000,:]\n",
    "testdata = train_data[54001:59998,:]\n",
    "\n",
    "label_data = train.ix[0:42000,:]\n",
    "label_validate = train.ix[42001:54000,:]\n",
    "label_test = train.ix[54001:59998,:]"
   ]
  },
  {
   "cell_type": "code",
   "execution_count": 12,
   "metadata": {
    "collapsed": false,
    "deletable": true,
    "editable": true
   },
   "outputs": [
    {
     "data": {
      "image/png": "[encoded data removed]",
      "text/plain": [
       "<matplotlib.figure.Figure at 0x117de8da128>"
      ]
     },
     "metadata": {},
     "output_type": "display_data"
    }
   ],
   "source": [
    "data_label = label_data.ix[:,'5']\n",
    "class_label = data_label.value_counts(sort = False)\n",
    "training_label = class_label.as_matrix()\n",
    "plt.bar(np.arange(10), height = training_label)\n",
    "plt.show()"
   ]
  },
  {
   "cell_type": "markdown",
   "metadata": {
    "deletable": true,
    "editable": true
   },
   "source": [
    "As we can see, the distribution in tranining data is not skewed, every elements in the tranining data have the same frequencies"
   ]
  },
  {
   "cell_type": "code",
   "execution_count": 13,
   "metadata": {
    "collapsed": false,
    "deletable": true,
    "editable": true
   },
   "outputs": [
    {
     "data": {
      "image/png": "[encoded data removed]",
      "text/plain": [
       "<matplotlib.figure.Figure at 0x117c68d0c18>"
      ]
     },
     "metadata": {},
     "output_type": "display_data"
    }
   ],
   "source": [
    "validate_label = label_validate.ix[:,'5']\n",
    "class_validate_label = validate_label.value_counts(sort = False)\n",
    "class_validate_label = class_validate_label.as_matrix()\n",
    "plt.bar(np.arange(10), height = class_validate_label)\n",
    "plt.show()"
   ]
  },
  {
   "cell_type": "markdown",
   "metadata": {
    "deletable": true,
    "editable": true
   },
   "source": [
    "In cross validate data set, the distribution is not change"
   ]
  },
  {
   "cell_type": "code",
   "execution_count": 14,
   "metadata": {
    "collapsed": false,
    "deletable": true,
    "editable": true
   },
   "outputs": [
    {
     "data": {
      "image/png": "[encoded data removed]",
      "text/plain": [
       "<matplotlib.figure.Figure at 0x117bc0944e0>"
      ]
     },
     "metadata": {},
     "output_type": "display_data"
    }
   ],
   "source": [
    "test_label = label_test.ix[:,'5']\n",
    "class_test_label = test_label.value_counts(sort = False)\n",
    "class_test_label = class_test_label.as_matrix()\n",
    "plt.bar(np.arange(10), height = class_test_label)\n",
    "plt.show()\n"
   ]
  },
  {
   "cell_type": "markdown",
   "metadata": {
    "deletable": true,
    "editable": true
   },
   "source": [
    "Look at 3 bar graphs, we can see in every phase, each phase has same distribution, this means Covariate shift equals to 0"
   ]
  },
  {
   "cell_type": "code",
   "execution_count": 15,
   "metadata": {
    "collapsed": false,
    "deletable": true,
    "editable": true
   },
   "outputs": [],
   "source": [
    "data = train_data[0:42000,:]\n",
    "validate = train_data[42001:54000,:]\n",
    "testdata = train_data[54001:59998,:]\n",
    "\n",
    "label_data = label[0:42000]\n",
    "label_validate = label[42001:54000]\n",
    "label_test = label[54001:59998]\n"
   ]
  },
  {
   "cell_type": "markdown",
   "metadata": {
    "deletable": true,
    "editable": true
   },
   "source": [
    "I split the data to the ratio 70:20:10 corespoding to training data: cross validate data: test data"
   ]
  },
  {
   "cell_type": "code",
   "execution_count": 16,
   "metadata": {
    "collapsed": false,
    "deletable": true,
    "editable": true
   },
   "outputs": [],
   "source": [
    "def one_hot_encoding(x):\n",
    "    temp = np.zeros((len(x), 10))             #10 classes\n",
    "    temp[np.arange(len(x)), x] = 1\n",
    "    return temp"
   ]
  },
  {
   "cell_type": "markdown",
   "metadata": {
    "collapsed": true,
    "deletable": true,
    "editable": true
   },
   "source": [
    "# Data Dimensions\n",
    "I list the data dimension below"
   ]
  },
  {
   "cell_type": "code",
   "execution_count": 17,
   "metadata": {
    "collapsed": true,
    "deletable": true,
    "editable": true
   },
   "outputs": [],
   "source": [
    "image_size = 28\n",
    "\n",
    "image_size_flat = image_size*image_size\n",
    "\n",
    "image_shape = (image_size,image_size)\n",
    "\n",
    "num_channels = 1\n",
    "\n",
    "num_classes = 10"
   ]
  },
  {
   "cell_type": "markdown",
   "metadata": {
    "deletable": true,
    "editable": true
   },
   "source": [
    "# Function to plot image"
   ]
  },
  {
   "cell_type": "code",
   "execution_count": 18,
   "metadata": {
    "collapsed": true,
    "deletable": true,
    "editable": true
   },
   "outputs": [],
   "source": [
    "def plot_images(images, cls_true, cls_pred=None):\n",
    "    assert len(images) == len(cls_true) == 25\n",
    "    \n",
    "    fig, axes = plt.subplots(5, 5)\n",
    "    fig.subplots_adjust(hspace=0.4, wspace=0.2)\n",
    "\n",
    "    for i, ax in enumerate(axes.flat):\n",
    "\n",
    "        ax.imshow(images[i].reshape(image_shape), cmap='binary')\n",
    "\n",
    "        if cls_pred is None:\n",
    "            xlabel = \"True: {0}\".format(cls_true[i])\n",
    "        else:\n",
    "            xlabel = \"True: {0}, Pred: {1}\".format(cls_true[i], cls_pred[i])\n",
    "\n",
    "        ax.set_xlabel(xlabel)\n",
    "        \n",
    "        ax.set_xticks([])\n",
    "        ax.set_yticks([])\n",
    "    \n",
    "    plt.show()"
   ]
  },
  {
   "cell_type": "code",
   "execution_count": 19,
   "metadata": {
    "collapsed": false,
    "deletable": true,
    "editable": true
   },
   "outputs": [
    {
     "data": {
      "image/png": "[encoded data removed]",
      "text/plain": [
       "<matplotlib.figure.Figure at 0x117bc503d68>"
      ]
     },
     "metadata": {},
     "output_type": "display_data"
    }
   ],
   "source": [
    "# Get the first images from the test-set.\n",
    "images = data[0:25,:]\n",
    "\n",
    "# Get the true classes for those images.\n",
    "cls_true = label_data[0:25]\n",
    "\n",
    "# Plot the images and labels using our helper-function above.\n",
    "plot_images(images=images, cls_true=cls_true)"
   ]
  },
  {
   "cell_type": "markdown",
   "metadata": {
    "deletable": true,
    "editable": true
   },
   "source": [
    "# Functions to initialize weights and biases\n",
    "I use truncated_normal with mean 0 and stddv = 1 because i want to cut off tail of the normal distribution in order to avoid saturation of neurons"
   ]
  },
  {
   "cell_type": "code",
   "execution_count": 20,
   "metadata": {
    "collapsed": true,
    "deletable": true,
    "editable": true
   },
   "outputs": [],
   "source": [
    "def new_weights(shape):\n",
    "    return tf.Variable(tf.truncated_normal(shape))\n",
    "\n",
    "def new_biases(length):\n",
    "    return tf.Variable(tf.constant(0.0, shape=[length]))"
   ]
  },
  {
   "cell_type": "markdown",
   "metadata": {
    "deletable": true,
    "editable": true
   },
   "source": [
    "# Function to create Convolutional Layers"
   ]
  },
  {
   "cell_type": "code",
   "execution_count": 21,
   "metadata": {
    "collapsed": true,
    "deletable": true,
    "editable": true
   },
   "outputs": [],
   "source": [
    "def new_conv_layer(input,              # The previous layer.\n",
    "                   num_input_channels, # Num. channels in previous layer.\n",
    "                   filter_size,        # Width and height of each filter.\n",
    "                   num_filters,        # Number of filters.\n",
    "                   use_pooling=True):  # Use 2x2 max-pooling.\n",
    "\n",
    "    shape = [filter_size, filter_size, num_input_channels, num_filters]\n",
    "\n",
    "    weights = new_weights(shape=shape)\n",
    "\n",
    "    biases = new_biases(length=num_filters)\n",
    "\n",
    "    layer = tf.nn.conv2d(input=input, ################################################################# conv2d\n",
    "                         filter=weights,\n",
    "                         strides=[1, 1, 1, 1],\n",
    "                         padding='SAME')\n",
    "\n",
    "    layer += biases\n",
    "\n",
    "    if use_pooling:\n",
    "        layer = tf.nn.max_pool(value=layer,\n",
    "                               ksize=[1, 2, 2, 1],\n",
    "                               strides=[1, 2, 2, 1],\n",
    "                               padding='SAME')\n",
    "    layer = tf.nn.relu(layer)\n",
    "    return layer, weights"
   ]
  },
  {
   "cell_type": "markdown",
   "metadata": {
    "deletable": true,
    "editable": true
   },
   "source": [
    "# Function for flattening a layer\n",
    "Convolutional Layer output a rank 4 tensor, we need to reshape it to rank 4 tensor to feed to feed forward layers\n",
    "in rank 4 tensor, 3 dimensions are for shape of the feature maps, the last dimension is for number of image fed to the Convolutional Layer\n",
    "\n",
    "In feed forward layers, 1 dimension is for input and 1 dimension is for number of input"
   ]
  },
  {
   "cell_type": "code",
   "execution_count": 22,
   "metadata": {
    "collapsed": true,
    "deletable": true,
    "editable": true
   },
   "outputs": [],
   "source": [
    "def flatten_layer(layer):\n",
    "\n",
    "    layer_shape = layer.get_shape()\n",
    "\n",
    "    num_features = layer_shape[1:4].num_elements()\n",
    "    \n",
    "    layer_flat = tf.reshape(layer, [-1, num_features])\n",
    "\n",
    "    return layer_flat, num_features"
   ]
  },
  {
   "cell_type": "markdown",
   "metadata": {
    "deletable": true,
    "editable": true
   },
   "source": [
    "# Fully Connected Layers"
   ]
  },
  {
   "cell_type": "code",
   "execution_count": 23,
   "metadata": {
    "collapsed": true,
    "deletable": true,
    "editable": true
   },
   "outputs": [],
   "source": [
    "def new_fc_layer(input,          # The previous layer.\n",
    "                 num_inputs,     # Num. inputs from prev. layer.\n",
    "                 num_outputs,    # Num. outputs.\n",
    "                 use_relu=True): # Use Rectified Linear Unit (ReLU)?\n",
    "\n",
    "    weights = new_weights(shape=[num_inputs, num_outputs])\n",
    "    biases = new_biases(length=num_outputs)\n",
    "\n",
    "    layer = tf.matmul(input, weights) + biases\n",
    "\n",
    "    # Use ReLU?\n",
    "    if use_relu:\n",
    "        layer = tf.nn.relu(layer)\n",
    "\n",
    "    return layer"
   ]
  },
  {
   "cell_type": "code",
   "execution_count": 24,
   "metadata": {
    "collapsed": false,
    "deletable": true,
    "editable": true
   },
   "outputs": [],
   "source": [
    "x = tf.placeholder(tf.float32, shape=[None, image_size_flat], name='x')\n",
    "x_image = tf.reshape(x, [-1, image_size, image_size, num_channels])\n",
    "y_true = tf.placeholder(tf.float32, [None, num_classes])\n",
    "y_true_cls = tf.argmax(y_true, dimension=1)"
   ]
  },
  {
   "cell_type": "markdown",
   "metadata": {
    "deletable": true,
    "editable": true
   },
   "source": [
    "# Convolutional Layer 1"
   ]
  },
  {
   "cell_type": "code",
   "execution_count": 25,
   "metadata": {
    "collapsed": true,
    "deletable": true,
    "editable": true
   },
   "outputs": [],
   "source": [
    "filter_size1 = 5\n",
    "num_filters1 = 6 "
   ]
  },
  {
   "cell_type": "code",
   "execution_count": 26,
   "metadata": {
    "collapsed": false,
    "deletable": true,
    "editable": true
   },
   "outputs": [],
   "source": [
    "layer_conv1, weights_conv1 = new_conv_layer(input=x_image,\n",
    "                                           num_input_channels=num_channels,\n",
    "                                           filter_size=filter_size1,\n",
    "                                           num_filters=num_filters1,\n",
    "                                           use_pooling=True)"
   ]
  },
  {
   "cell_type": "code",
   "execution_count": 27,
   "metadata": {
    "collapsed": false,
    "deletable": true,
    "editable": true
   },
   "outputs": [
    {
     "data": {
      "text/plain": [
       "<tf.Tensor 'Relu:0' shape=(?, 14, 14, 6) dtype=float32>"
      ]
     },
     "execution_count": 27,
     "metadata": {},
     "output_type": "execute_result"
    }
   ],
   "source": [
    "layer_conv1"
   ]
  },
  {
   "cell_type": "markdown",
   "metadata": {
    "deletable": true,
    "editable": true
   },
   "source": [
    "# Convolutional Layer 2"
   ]
  },
  {
   "cell_type": "code",
   "execution_count": 28,
   "metadata": {
    "collapsed": true,
    "deletable": true,
    "editable": true
   },
   "outputs": [],
   "source": [
    "filter_size2 = 5        \n",
    "num_filters2 = 36  "
   ]
  },
  {
   "cell_type": "code",
   "execution_count": 29,
   "metadata": {
    "collapsed": true,
    "deletable": true,
    "editable": true
   },
   "outputs": [],
   "source": [
    "layer_conv2, weights_conv2 = new_conv_layer(input=layer_conv1,\n",
    "                                           num_input_channels=num_filters1,\n",
    "                                           filter_size=filter_size2,\n",
    "                                           num_filters=num_filters2,\n",
    "                                           use_pooling=True)"
   ]
  },
  {
   "cell_type": "code",
   "execution_count": 30,
   "metadata": {
    "collapsed": false,
    "deletable": true,
    "editable": true
   },
   "outputs": [
    {
     "data": {
      "text/plain": [
       "<tf.Tensor 'Relu_1:0' shape=(?, 7, 7, 36) dtype=float32>"
      ]
     },
     "execution_count": 30,
     "metadata": {},
     "output_type": "execute_result"
    }
   ],
   "source": [
    "layer_conv2"
   ]
  },
  {
   "cell_type": "markdown",
   "metadata": {
    "deletable": true,
    "editable": true
   },
   "source": [
    "# Flatten Layer"
   ]
  },
  {
   "cell_type": "code",
   "execution_count": 31,
   "metadata": {
    "collapsed": true,
    "deletable": true,
    "editable": true
   },
   "outputs": [],
   "source": [
    "layer_flat, num_features = flatten_layer(layer_conv2)"
   ]
  },
  {
   "cell_type": "code",
   "execution_count": 32,
   "metadata": {
    "collapsed": false,
    "deletable": true,
    "editable": true
   },
   "outputs": [
    {
     "data": {
      "text/plain": [
       "<tf.Tensor 'Reshape_1:0' shape=(?, 1764) dtype=float32>"
      ]
     },
     "execution_count": 32,
     "metadata": {},
     "output_type": "execute_result"
    }
   ],
   "source": [
    "layer_flat"
   ]
  },
  {
   "cell_type": "markdown",
   "metadata": {
    "deletable": true,
    "editable": true
   },
   "source": [
    "# Fully Connected Layers"
   ]
  },
  {
   "cell_type": "code",
   "execution_count": 33,
   "metadata": {
    "collapsed": true,
    "deletable": true,
    "editable": true
   },
   "outputs": [],
   "source": [
    "fc_size = 128"
   ]
  },
  {
   "cell_type": "code",
   "execution_count": 34,
   "metadata": {
    "collapsed": true,
    "deletable": true,
    "editable": true
   },
   "outputs": [],
   "source": [
    "layer_fc1 = new_fc_layer(input=layer_flat,\n",
    "                         num_inputs=num_features,\n",
    "                         num_outputs=fc_size,\n",
    "                         use_relu=True)"
   ]
  },
  {
   "cell_type": "code",
   "execution_count": 35,
   "metadata": {
    "collapsed": false,
    "deletable": true,
    "editable": true
   },
   "outputs": [
    {
     "data": {
      "text/plain": [
       "<tf.Tensor 'Relu_2:0' shape=(?, 128) dtype=float32>"
      ]
     },
     "execution_count": 35,
     "metadata": {},
     "output_type": "execute_result"
    }
   ],
   "source": [
    "layer_fc1"
   ]
  },
  {
   "cell_type": "markdown",
   "metadata": {
    "deletable": true,
    "editable": true
   },
   "source": [
    "# Fully Connected Layers 2"
   ]
  },
  {
   "cell_type": "code",
   "execution_count": 36,
   "metadata": {
    "collapsed": true,
    "deletable": true,
    "editable": true
   },
   "outputs": [],
   "source": [
    "layer_fc2 = new_fc_layer(input=layer_fc1,\n",
    "                         num_inputs=fc_size,\n",
    "                         num_outputs=num_classes,\n",
    "                         use_relu=False)"
   ]
  },
  {
   "cell_type": "code",
   "execution_count": 37,
   "metadata": {
    "collapsed": false,
    "deletable": true,
    "editable": true
   },
   "outputs": [
    {
     "data": {
      "text/plain": [
       "<tf.Tensor 'add_3:0' shape=(?, 10) dtype=float32>"
      ]
     },
     "execution_count": 37,
     "metadata": {},
     "output_type": "execute_result"
    }
   ],
   "source": [
    "layer_fc2"
   ]
  },
  {
   "cell_type": "markdown",
   "metadata": {
    "deletable": true,
    "editable": true
   },
   "source": [
    "# Predict class"
   ]
  },
  {
   "cell_type": "code",
   "execution_count": 38,
   "metadata": {
    "collapsed": true,
    "deletable": true,
    "editable": true
   },
   "outputs": [],
   "source": [
    "y_pred = tf.nn.softmax(layer_fc2)\n",
    "y_pred_cls = tf.argmax(y_pred, dimension=1)"
   ]
  },
  {
   "cell_type": "markdown",
   "metadata": {
    "deletable": true,
    "editable": true
   },
   "source": [
    "# Model Architecture"
   ]
  },
  {
   "cell_type": "code",
   "execution_count": 39,
   "metadata": {
    "collapsed": false,
    "deletable": true,
    "editable": true
   },
   "outputs": [
    {
     "data": {
      "image/png": "[encoded data removed]",
      "text/plain": [
       "<IPython.core.display.Image object>"
      ]
     },
     "execution_count": 39,
     "metadata": {},
     "output_type": "execute_result"
    }
   ],
   "source": [
    "from IPython.display import Image\n",
    "Image('CNNARCHITECTURE.png')"
   ]
  },
  {
   "cell_type": "markdown",
   "metadata": {
    "collapsed": true,
    "deletable": true,
    "editable": true
   },
   "source": [
    "# Cost function"
   ]
  },
  {
   "cell_type": "code",
   "execution_count": 40,
   "metadata": {
    "collapsed": true,
    "deletable": true,
    "editable": true
   },
   "outputs": [],
   "source": [
    "cross_entropy = tf.nn.softmax_cross_entropy_with_logits(logits=layer_fc2,\n",
    "                                                        labels=y_true)\n",
    "cost = tf.reduce_mean(cross_entropy)"
   ]
  },
  {
   "cell_type": "code",
   "execution_count": 41,
   "metadata": {
    "collapsed": true,
    "deletable": true,
    "editable": true
   },
   "outputs": [],
   "source": [
    "optimizer = tf.train.AdamOptimizer().minimize(cost)"
   ]
  },
  {
   "cell_type": "markdown",
   "metadata": {
    "deletable": true,
    "editable": true
   },
   "source": [
    "# Caculating the accuracy"
   ]
  },
  {
   "cell_type": "code",
   "execution_count": 42,
   "metadata": {
    "collapsed": true,
    "deletable": true,
    "editable": true
   },
   "outputs": [],
   "source": [
    "correct_prediction = tf.equal(y_pred_cls, y_true_cls)\n",
    "accuracy = tf.reduce_mean(tf.cast(correct_prediction, tf.float32))"
   ]
  },
  {
   "cell_type": "markdown",
   "metadata": {
    "deletable": true,
    "editable": true
   },
   "source": [
    "# The above is for building a graph, now we are feed data to train the model"
   ]
  },
  {
   "cell_type": "code",
   "execution_count": 43,
   "metadata": {
    "collapsed": true,
    "deletable": true,
    "editable": true
   },
   "outputs": [],
   "source": [
    "session = tf.Session()\n",
    "session.run(tf.global_variables_initializer())"
   ]
  },
  {
   "cell_type": "markdown",
   "metadata": {
    "deletable": true,
    "editable": true
   },
   "source": [
    "# Feed data into model"
   ]
  },
  {
   "cell_type": "code",
   "execution_count": 44,
   "metadata": {
    "collapsed": false,
    "deletable": true,
    "editable": true
   },
   "outputs": [],
   "source": [
    "batch_size = 100\n",
    "steps = len(data)/batch_size\n",
    "steps = int(steps)\n",
    "err_test = list()\n",
    "err_validate = list()\n",
    "acc_test = list()\n",
    "acc_validate = list()\n",
    "def optimize(num_iterations):\n",
    "    for i in range(num_iterations):\n",
    "        k = 0\n",
    "        for j in range(steps):\n",
    "            x_batch = data[k:k+ batch_size,:] \n",
    "            y_true_batch = label_data[k:k+ batch_size]\n",
    "\n",
    "            y_true_batch = one_hot_encoding(y_true_batch)\n",
    "           \n",
    "            k = k + batch_size\n",
    "            feed_dict_train = {x: x_batch,\n",
    "                               y_true: y_true_batch}\n",
    "            session.run(optimizer, feed_dict=feed_dict_train)\n",
    "            \n",
    "        err_test.append(print_loss(feed_dict_test))\n",
    "        err_validate.append(print_loss(feed_dict_validate))\n",
    "        print(\"time: {0}, loss on validate set: {1}, loss on data: {2}\".format(i, print_accuracy(feed_dict_validate), print_accuracy(feed_dict_test)))\n",
    "        acc_validate.append(print_accuracy(feed_dict_validate))\n",
    "        acc_test.append(print_accuracy(feed_dict_test))"
   ]
  },
  {
   "cell_type": "code",
   "execution_count": 45,
   "metadata": {
    "collapsed": false,
    "deletable": true,
    "editable": true
   },
   "outputs": [],
   "source": [
    "feed_label_validate = one_hot_encoding(label_validate)\n",
    "validate_class = np.array([label.argmax() for label in feed_label_validate])\n",
    "feed_dict_validate = {x: validate,\n",
    "                  y_true: feed_label_validate,\n",
    "                  y_true_cls: validate_class}"
   ]
  },
  {
   "cell_type": "code",
   "execution_count": 46,
   "metadata": {
    "collapsed": true,
    "deletable": true,
    "editable": true
   },
   "outputs": [],
   "source": [
    "feed_label_test = one_hot_encoding(label_data)\n",
    "test_class = np.array([label.argmax() for label in feed_label_test])\n",
    "feed_dict_test = {x: data,\n",
    "                  y_true: feed_label_test,\n",
    "                  y_true_cls: test_class}"
   ]
  },
  {
   "cell_type": "code",
   "execution_count": 47,
   "metadata": {
    "collapsed": false,
    "deletable": true,
    "editable": true
   },
   "outputs": [],
   "source": [
    "def print_accuracy(feed_dict_):\n",
    "    # Use TensorFlow to compute the accuracy.\n",
    "    acc = session.run(accuracy, feed_dict_)\n",
    "    \n",
    "    # Print the accuracy.\n",
    "    #print(\"Accuracy on test-set: {0:.1%}\".format(acc))\n",
    "    return acc"
   ]
  },
  {
   "cell_type": "code",
   "execution_count": 48,
   "metadata": {
    "collapsed": true,
    "deletable": true,
    "editable": true
   },
   "outputs": [],
   "source": [
    "def print_loss(feed_dict_):\n",
    "    # Use TensorFlow to compute the accuracy.\n",
    "    acc = session.run(cost, feed_dict_)\n",
    "    \n",
    "    # Print the accuracy.\n",
    "    #print(\"Accuracy on test-set: {0:.1%}\".format(acc))\n",
    "    return acc"
   ]
  },
  {
   "cell_type": "code",
   "execution_count": 49,
   "metadata": {
    "collapsed": false,
    "deletable": true,
    "editable": true
   },
   "outputs": [],
   "source": [
    "err_validate.append(print_loss(feed_dict_validate))\n",
    "err_test.append(print_loss(feed_dict_test))"
   ]
  },
  {
   "cell_type": "code",
   "execution_count": 50,
   "metadata": {
    "collapsed": false,
    "deletable": true,
    "editable": true
   },
   "outputs": [
    {
     "name": "stdout",
     "output_type": "stream",
     "text": [
      "time: 0, loss on validate set: 0.836069643497467, loss on data: 0.8491666913032532\n",
      "time: 1, loss on validate set: 0.8851571083068848, loss on data: 0.8985475897789001\n",
      "time: 2, loss on validate set: 0.9074089527130127, loss on data: 0.9208095073699951\n",
      "time: 3, loss on validate set: 0.9187432527542114, loss on data: 0.9351666569709778\n",
      "time: 4, loss on validate set: 0.9274939298629761, loss on data: 0.9456666707992554\n",
      "time: 5, loss on validate set: 0.9319109916687012, loss on data: 0.951714277267456\n",
      "time: 6, loss on validate set: 0.9386615753173828, loss on data: 0.95804762840271\n",
      "time: 7, loss on validate set: 0.9416618347167969, loss on data: 0.9652618765830994\n",
      "time: 8, loss on validate set: 0.9445787072181702, loss on data: 0.9680714011192322\n",
      "time: 9, loss on validate set: 0.9484123587608337, loss on data: 0.9730714559555054\n",
      "time: 10, loss on validate set: 0.9475789666175842, loss on data: 0.972428560256958\n",
      "time: 11, loss on validate set: 0.9512459635734558, loss on data: 0.9788809418678284\n",
      "time: 12, loss on validate set: 0.9519960284233093, loss on data: 0.9822381138801575\n",
      "time: 13, loss on validate set: 0.9518293142318726, loss on data: 0.9812856912612915\n",
      "time: 14, loss on validate set: 0.9560796618461609, loss on data: 0.98416668176651\n",
      "time: 15, loss on validate set: 0.9577465057373047, loss on data: 0.9852619171142578\n",
      "time: 16, loss on validate set: 0.9585798978805542, loss on data: 0.9886666536331177\n",
      "time: 17, loss on validate set: 0.9568297266960144, loss on data: 0.9875714182853699\n",
      "time: 18, loss on validate set: 0.960663378238678, loss on data: 0.9905714392662048\n",
      "time: 19, loss on validate set: 0.9596633315086365, loss on data: 0.9886428713798523\n",
      "time: 20, loss on validate set: 0.9581632018089294, loss on data: 0.9856904745101929\n",
      "time: 21, loss on validate set: 0.9602466821670532, loss on data: 0.9875714182853699\n",
      "time: 22, loss on validate set: 0.9612467885017395, loss on data: 0.9928333163261414\n",
      "time: 23, loss on validate set: 0.9624135494232178, loss on data: 0.9938571453094482\n",
      "time: 24, loss on validate set: 0.9632469415664673, loss on data: 0.9928809404373169\n",
      "time: 25, loss on validate set: 0.963580310344696, loss on data: 0.9937381148338318\n",
      "time: 26, loss on validate set: 0.9634135961532593, loss on data: 0.9922381043434143\n",
      "time: 27, loss on validate set: 0.9652470946311951, loss on data: 0.9951428771018982\n",
      "time: 28, loss on validate set: 0.9624968767166138, loss on data: 0.9925237894058228\n",
      "time: 29, loss on validate set: 0.9672472476959229, loss on data: 0.9968095421791077\n",
      "time: 30, loss on validate set: 0.9683306813240051, loss on data: 0.9973333477973938\n",
      "time: 31, loss on validate set: 0.9640803337097168, loss on data: 0.993309497833252\n",
      "time: 32, loss on validate set: 0.9671639204025269, loss on data: 0.9973571300506592\n",
      "time: 33, loss on validate set: 0.962246835231781, loss on data: 0.991095244884491\n",
      "time: 34, loss on validate set: 0.9668305516242981, loss on data: 0.9954524040222168\n",
      "time: 35, loss on validate set: 0.9657471179962158, loss on data: 0.9957143068313599\n",
      "time: 36, loss on validate set: 0.9650804400444031, loss on data: 0.992904782295227\n",
      "time: 37, loss on validate set: 0.9657471179962158, loss on data: 0.9946190714836121\n",
      "time: 38, loss on validate set: 0.9673306345939636, loss on data: 0.9963333606719971\n",
      "time: 39, loss on validate set: 0.9659138321876526, loss on data: 0.9951428771018982\n",
      "time: 40, loss on validate set: 0.9689140915870667, loss on data: 0.996666669845581\n",
      "time: 41, loss on validate set: 0.9664971828460693, loss on data: 0.995023787021637\n",
      "time: 42, loss on validate set: 0.9696641564369202, loss on data: 0.9965952634811401\n",
      "time: 43, loss on validate set: 0.9684140086174011, loss on data: 0.9968571662902832\n",
      "time: 44, loss on validate set: 0.9678306579589844, loss on data: 0.9972142577171326\n",
      "time: 45, loss on validate set: 0.9699975252151489, loss on data: 0.9975237846374512\n",
      "time: 46, loss on validate set: 0.9669972658157349, loss on data: 0.993571400642395\n",
      "time: 47, loss on validate set: 0.9685807228088379, loss on data: 0.9953571557998657\n",
      "time: 48, loss on validate set: 0.9703308343887329, loss on data: 0.996738076210022\n",
      "time: 49, loss on validate set: 0.9729143977165222, loss on data: 0.9987618923187256\n",
      "time: 50, loss on validate set: 0.9708309173583984, loss on data: 0.9975952506065369\n",
      "time: 51, loss on validate set: 0.9700808525085449, loss on data: 0.99657142162323\n",
      "time: 52, loss on validate set: 0.9678306579589844, loss on data: 0.9945952296257019\n",
      "time: 53, loss on validate set: 0.9700808525085449, loss on data: 0.996833324432373\n",
      "time: 54, loss on validate set: 0.9705808758735657, loss on data: 0.9963571429252625\n",
      "time: 55, loss on validate set: 0.9720810055732727, loss on data: 0.9991190433502197\n",
      "time: 56, loss on validate set: 0.9688307642936707, loss on data: 0.9953809380531311\n",
      "time: 57, loss on validate set: 0.9707475900650024, loss on data: 0.9972380995750427\n",
      "time: 58, loss on validate set: 0.973331093788147, loss on data: 0.9992142915725708\n",
      "time: 59, loss on validate set: 0.9708309173583984, loss on data: 0.9971666932106018\n",
      "time: 60, loss on validate set: 0.9698308110237122, loss on data: 0.9960952401161194\n",
      "time: 61, loss on validate set: 0.9712476134300232, loss on data: 0.9983333349227905\n",
      "time: 62, loss on validate set: 0.9738311767578125, loss on data: 0.9994523525238037\n",
      "time: 63, loss on validate set: 0.9707475900650024, loss on data: 0.9979285597801208\n",
      "time: 64, loss on validate set: 0.9678306579589844, loss on data: 0.9952380657196045\n",
      "time: 65, loss on validate set: 0.9724143743515015, loss on data: 0.9982380867004395\n",
      "time: 66, loss on validate set: 0.9736644625663757, loss on data: 0.9990237951278687\n",
      "time: 67, loss on validate set: 0.973331093788147, loss on data: 0.9978333115577698\n",
      "time: 68, loss on validate set: 0.9741644859313965, loss on data: 0.9989523887634277\n",
      "time: 69, loss on validate set: 0.9729977250099182, loss on data: 0.9984285831451416\n",
      "time: 70, loss on validate set: 0.9704142212867737, loss on data: 0.9957857131958008\n",
      "time: 71, loss on validate set: 0.9749979376792908, loss on data: 0.9996190667152405\n",
      "time: 72, loss on validate set: 0.973331093788147, loss on data: 0.9992856979370117\n",
      "time: 73, loss on validate set: 0.973081111907959, loss on data: 0.997952401638031\n",
      "time: 74, loss on validate set: 0.973081111907959, loss on data: 0.9988333582878113\n",
      "time: 75, loss on validate set: 0.9724143743515015, loss on data: 0.9991904497146606\n",
      "time: 76, loss on validate set: 0.9738311767578125, loss on data: 0.9990476369857788\n",
      "time: 77, loss on validate set: 0.9724977016448975, loss on data: 0.9982143044471741\n",
      "time: 78, loss on validate set: 0.9750812649726868, loss on data: 0.9992619156837463\n",
      "time: 79, loss on validate set: 0.9739978313446045, loss on data: 0.9993571639060974\n",
      "time: 80, loss on validate set: 0.973331093788147, loss on data: 0.9976190328598022\n",
      "time: 81, loss on validate set: 0.973247766494751, loss on data: 0.9994761943817139\n",
      "time: 82, loss on validate set: 0.9729143977165222, loss on data: 0.9976428747177124\n",
      "time: 83, loss on validate set: 0.9725810289382935, loss on data: 0.9978333115577698\n",
      "time: 84, loss on validate set: 0.9734978079795837, loss on data: 0.9991190433502197\n",
      "time: 85, loss on validate set: 0.9725810289382935, loss on data: 0.9988571405410767\n",
      "time: 86, loss on validate set: 0.973164439201355, loss on data: 0.9994761943817139\n",
      "time: 87, loss on validate set: 0.9735811352729797, loss on data: 0.9989761710166931\n",
      "time: 88, loss on validate set: 0.97491455078125, loss on data: 0.9990714192390442\n",
      "time: 89, loss on validate set: 0.974581241607666, loss on data: 0.9992856979370117\n",
      "time: 90, loss on validate set: 0.9744978547096252, loss on data: 0.9992142915725708\n",
      "time: 91, loss on validate set: 0.9756646156311035, loss on data: 0.9998095035552979\n",
      "time: 92, loss on validate set: 0.9755812883377075, loss on data: 0.9990952610969543\n",
      "time: 93, loss on validate set: 0.973081111907959, loss on data: 0.9982619285583496\n",
      "time: 94, loss on validate set: 0.9751645922660828, loss on data: 0.9995238184928894\n",
      "time: 95, loss on validate set: 0.9741644859313965, loss on data: 0.9988095164299011\n",
      "time: 96, loss on validate set: 0.9764980673789978, loss on data: 0.9992380738258362\n",
      "time: 97, loss on validate set: 0.976164698600769, loss on data: 0.9991666674613953\n",
      "time: 98, loss on validate set: 0.974747896194458, loss on data: 0.9990714192390442\n",
      "time: 99, loss on validate set: 0.9754979610443115, loss on data: 0.9995952248573303\n"
     ]
    }
   ],
   "source": [
    "optimize(num_iterations=100)"
   ]
  },
  {
   "cell_type": "markdown",
   "metadata": {
    "collapsed": false,
    "deletable": true,
    "editable": true
   },
   "source": [
    "# Testing time"
   ]
  },
  {
   "cell_type": "code",
   "execution_count": 51,
   "metadata": {
    "collapsed": false,
    "deletable": true,
    "editable": true
   },
   "outputs": [
    {
     "data": {
      "image/png": "[encoded data removed]",
      "text/plain": [
       "<matplotlib.figure.Figure at 0x117de8da0f0>"
      ]
     },
     "metadata": {},
     "output_type": "display_data"
    }
   ],
   "source": [
    "fig = plt.figure()\n",
    "plt.plot(range(len(acc_test)),acc_test,'r')\n",
    "plt.plot(range(len(acc_validate)),acc_validate,'b')\n",
    "plt.ylabel('accuracy')\n",
    "plt.xlabel('epochs')\n",
    "#plt.title('accuracy on validate data')\n",
    "plt.show()\n",
    "fig.savefig('Adam_fulldata_CNNcrossvalidatealpha00001.png')"
   ]
  },
  {
   "cell_type": "code",
   "execution_count": 52,
   "metadata": {
    "collapsed": false,
    "deletable": true,
    "editable": true
   },
   "outputs": [
    {
     "data": {
      "image/png": "[encoded data removed]",
      "text/plain": [
       "<matplotlib.figure.Figure at 0x117bcb05d68>"
      ]
     },
     "metadata": {},
     "output_type": "display_data"
    }
   ],
   "source": [
    "fig = plt.figure()\n",
    "plt.plot(range(len(err_test)),err_test,'r')\n",
    "plt.plot(range(len(err_validate)),err_validate,'b')\n",
    "plt.ylabel('loss')\n",
    "plt.xlabel('epochs')\n",
    "#plt.title('accuracy on validate data')\n",
    "plt.show()\n",
    "fig.savefig('AdamCNNlossalpha00001.png')"
   ]
  },
  {
   "cell_type": "code",
   "execution_count": 110,
   "metadata": {
    "collapsed": false,
    "deletable": true,
    "editable": true
   },
   "outputs": [
    {
     "data": {
      "text/plain": [
       "array([1], dtype=int64)"
      ]
     },
     "execution_count": 110,
     "metadata": {},
     "output_type": "execute_result"
    }
   ],
   "source": [
    "target = validate[0:1,:]\n",
    "label_validate[0:1]"
   ]
  },
  {
   "cell_type": "code",
   "execution_count": 111,
   "metadata": {
    "collapsed": false,
    "deletable": true,
    "editable": true
   },
   "outputs": [
    {
     "data": {
      "text/plain": [
       "array([1], dtype=int64)"
      ]
     },
     "execution_count": 111,
     "metadata": {},
     "output_type": "execute_result"
    }
   ],
   "source": [
    "x_batch = target\n",
    "feed_test = {x: x_batch}\n",
    "session.run(y_pred_cls, feed_dict=feed_test)"
   ]
  },
  {
   "cell_type": "code",
   "execution_count": null,
   "metadata": {
    "collapsed": true,
    "deletable": true,
    "editable": true
   },
   "outputs": [],
   "source": []
  },
  {
   "cell_type": "code",
   "execution_count": null,
   "metadata": {
    "collapsed": true,
    "deletable": true,
    "editable": true
   },
   "outputs": [],
   "source": []
  }
 ],
 "metadata": {
  "kernelspec": {
   "display_name": "Python 3",
   "language": "python",
   "name": "python3"
  },
  "language_info": {
   "codemirror_mode": {
    "name": "ipython",
    "version": 3
   },
   "file_extension": ".py",
   "mimetype": "text/x-python",
   "name": "python",
   "nbconvert_exporter": "python",
   "pygments_lexer": "ipython3",
   "version": "3.5.2"
  }
 },
 "nbformat": 4,
 "nbformat_minor": 2
}
