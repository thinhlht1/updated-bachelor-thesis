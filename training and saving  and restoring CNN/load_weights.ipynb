{
 "cells": [
  {
   "cell_type": "code",
   "execution_count": 2,
   "metadata": {
    "collapsed": false,
    "deletable": true,
    "editable": true
   },
   "outputs": [],
   "source": [
    "import numpy as np\n",
    "import pandas as pd\n",
    "import tensorflow as tf\n",
    "import matplotlib.pyplot as plt"
   ]
  },
  {
   "cell_type": "code",
   "execution_count": 3,
   "metadata": {
    "collapsed": true,
    "deletable": true,
    "editable": true
   },
   "outputs": [],
   "source": [
    "train = pd.read_csv('mnist_train.csv')\n",
    "test = pd.read_csv('mnist_test.csv')"
   ]
  },
  {
   "cell_type": "code",
   "execution_count": 4,
   "metadata": {
    "collapsed": true,
    "deletable": true,
    "editable": true
   },
   "outputs": [],
   "source": [
    "dict_x_train = train.ix[:,'0':]\n",
    "pixel_train = dict_x_train.as_matrix()\n",
    "dict_y_train = train.ix[:,'5']\n",
    "label = dict_y_train.as_matrix()\n",
    "\n",
    "dict_x_test = test.ix[:,'0':]\n",
    "pixel_test = dict_x_test.as_matrix()\n",
    "dict_y_test = test.ix[:,'7']\n",
    "label_test = dict_y_test.as_matrix()"
   ]
  },
  {
   "cell_type": "code",
   "execution_count": 5,
   "metadata": {
    "collapsed": true,
    "deletable": true,
    "editable": true
   },
   "outputs": [],
   "source": [
    "mean_train = np.mean(pixel_train,axis = 1)\n",
    "std_train = np.std(pixel_train,axis = 1)\n",
    "\n",
    "mean_test = np.mean(pixel_test,axis = 1)\n",
    "std_test = np.std(pixel_test,axis = 1)"
   ]
  },
  {
   "cell_type": "code",
   "execution_count": 6,
   "metadata": {
    "collapsed": true,
    "deletable": true,
    "editable": true
   },
   "outputs": [],
   "source": [
    "mean_temp_train = np.tile(mean_train,[784,1])\n",
    "mean_temp_train = mean_temp_train.transpose()\n",
    "\n",
    "std_temp_train = np.tile(std_train,[784,1])\n",
    "std_temp_train = std_temp_train.transpose()\n",
    "\n",
    "\n",
    "mean_temp_test = np.tile(mean_test,[784,1])\n",
    "mean_temp_test = mean_temp_test.transpose()\n",
    "\n",
    "std_temp_test = np.tile(std_test,[784,1])\n",
    "std_temp_test = std_temp_test.transpose()"
   ]
  },
  {
   "cell_type": "code",
   "execution_count": 7,
   "metadata": {
    "collapsed": true,
    "deletable": true,
    "editable": true
   },
   "outputs": [],
   "source": [
    "zero_mean_train = pixel_train - mean_temp_train\n",
    "data = zero_mean_train/std_temp_train\n",
    "\n",
    "\n",
    "zero_mean_test = pixel_test - mean_temp_test\n",
    "test_data = zero_mean_test/std_temp_test"
   ]
  },
  {
   "cell_type": "code",
   "execution_count": 8,
   "metadata": {
    "collapsed": true,
    "deletable": true,
    "editable": true
   },
   "outputs": [],
   "source": [
    "train_data = data"
   ]
  },
  {
   "cell_type": "code",
   "execution_count": 91,
   "metadata": {
    "collapsed": true,
    "deletable": true,
    "editable": true
   },
   "outputs": [],
   "source": [
    "data = train_data[0:42000,:]\n",
    "validate = train_data[42001:54000,:]\n",
    "testdata = train_data[54001:59998,:]\n",
    "\n",
    "label_data = label[0:42000]\n",
    "label_validate = label[42001:54000]\n",
    "label_test = label[54001:59998]\n"
   ]
  },
  {
   "cell_type": "code",
   "execution_count": 10,
   "metadata": {
    "collapsed": true,
    "deletable": true,
    "editable": true
   },
   "outputs": [],
   "source": [
    "def one_hot_encoding(x):\n",
    "    temp = np.zeros((len(x), 10))             #10 classes\n",
    "    temp[np.arange(len(x)), x] = 1\n",
    "    return temp"
   ]
  },
  {
   "cell_type": "code",
   "execution_count": 11,
   "metadata": {
    "collapsed": true,
    "deletable": true,
    "editable": true
   },
   "outputs": [],
   "source": [
    "image_size = 28\n",
    "\n",
    "image_size_flat = image_size*image_size\n",
    "\n",
    "image_shape = (image_size,image_size)\n",
    "\n",
    "num_channels = 1\n",
    "\n",
    "num_classes = 10"
   ]
  },
  {
   "cell_type": "code",
   "execution_count": 12,
   "metadata": {
    "collapsed": true,
    "deletable": true,
    "editable": true
   },
   "outputs": [],
   "source": [
    "def new_weights(shape):\n",
    "    return tf.Variable(tf.truncated_normal(shape))\n",
    "\n",
    "def new_biases(length):\n",
    "    return tf.Variable(tf.constant(0.0, shape=[length]))"
   ]
  },
  {
   "cell_type": "code",
   "execution_count": 13,
   "metadata": {
    "collapsed": true,
    "deletable": true,
    "editable": true
   },
   "outputs": [],
   "source": [
    "def flatten_layer(layer):\n",
    "\n",
    "    layer_shape = layer.get_shape()\n",
    "\n",
    "    num_features = layer_shape[1:4].num_elements()\n",
    "    \n",
    "    layer_flat = tf.reshape(layer, [-1, num_features])\n",
    "\n",
    "    return layer_flat, num_features"
   ]
  },
  {
   "cell_type": "code",
   "execution_count": 14,
   "metadata": {
    "collapsed": true,
    "deletable": true,
    "editable": true
   },
   "outputs": [],
   "source": [
    "x = tf.placeholder(tf.float32, shape=[None, image_size_flat], name='x')\n",
    "x_image = tf.reshape(x, [-1, image_size, image_size, num_channels])\n",
    "y_true = tf.placeholder(tf.float32, [None, num_classes])\n",
    "y_true_cls = tf.argmax(y_true, dimension=1)"
   ]
  },
  {
   "cell_type": "code",
   "execution_count": 15,
   "metadata": {
    "collapsed": true,
    "deletable": true,
    "editable": true
   },
   "outputs": [],
   "source": [
    "filter_size1 = 5\n",
    "num_filters1 = 6 "
   ]
  },
  {
   "cell_type": "code",
   "execution_count": 16,
   "metadata": {
    "collapsed": false,
    "deletable": true,
    "editable": true
   },
   "outputs": [],
   "source": [
    "shape_1 = [filter_size1, filter_size1, num_channels, num_filters1]\n",
    "\n",
    "first_weights = new_weights(shape = shape_1)\n",
    "\n",
    "first_biases = new_biases(length=num_filters1)\n",
    "\n",
    "first_layer = tf.nn.conv2d(input=x_image, ################################################################# conv2d\n",
    "                         filter=first_weights,\n",
    "                         strides=[1, 1, 1, 1],\n",
    "                         padding='SAME')\n",
    "\n",
    "first_layer += first_biases\n",
    "\n",
    "first_layer = tf.nn.max_pool(value=first_layer,\n",
    "                               ksize=[1, 2, 2, 1],\n",
    "                               strides=[1, 2, 2, 1],\n",
    "                               padding='SAME')\n",
    "first_layer = tf.nn.relu(first_layer)"
   ]
  },
  {
   "cell_type": "code",
   "execution_count": 17,
   "metadata": {
    "collapsed": true,
    "deletable": true,
    "editable": true
   },
   "outputs": [],
   "source": [
    "filter_size2 = 5        \n",
    "num_filters2 = 36  "
   ]
  },
  {
   "cell_type": "code",
   "execution_count": 18,
   "metadata": {
    "collapsed": true,
    "deletable": true,
    "editable": true
   },
   "outputs": [],
   "source": [
    "shape_2 = [filter_size2, filter_size2, num_filters1, num_filters2]\n",
    "\n",
    "second_weights = new_weights(shape=shape_2)\n",
    "\n",
    "second_biases = new_biases(length=num_filters2)\n",
    "\n",
    "second_layer = tf.nn.conv2d(input=first_layer, ################################################################# conv2d\n",
    "                    filter=second_weights,\n",
    "                    strides=[1, 1, 1, 1],\n",
    "                    padding='SAME')\n",
    "\n",
    "second_layer += second_biases\n",
    "\n",
    "second_layer = tf.nn.max_pool(value=second_layer,\n",
    "                        ksize=[1, 2, 2, 1],\n",
    "                        strides=[1, 2, 2, 1],\n",
    "                        padding='SAME')\n",
    "second_layer = tf.nn.relu(second_layer)"
   ]
  },
  {
   "cell_type": "code",
   "execution_count": 19,
   "metadata": {
    "collapsed": true,
    "deletable": true,
    "editable": true
   },
   "outputs": [],
   "source": [
    "layer_flat, num_features = flatten_layer(second_layer)"
   ]
  },
  {
   "cell_type": "code",
   "execution_count": 20,
   "metadata": {
    "collapsed": true,
    "deletable": true,
    "editable": true
   },
   "outputs": [],
   "source": [
    "fc_size = 128"
   ]
  },
  {
   "cell_type": "code",
   "execution_count": 21,
   "metadata": {
    "collapsed": true,
    "deletable": true,
    "editable": true
   },
   "outputs": [],
   "source": [
    "fc1_weights = new_weights(shape=[num_features, fc_size])\n",
    "fc1_biases = new_biases(length=fc_size)\n",
    "\n",
    "fc1_layer = tf.matmul(layer_flat, fc1_weights) + fc1_biases\n",
    "\n",
    "fc1_layer = tf.nn.relu(fc1_layer)"
   ]
  },
  {
   "cell_type": "code",
   "execution_count": 22,
   "metadata": {
    "collapsed": true,
    "deletable": true,
    "editable": true
   },
   "outputs": [],
   "source": [
    "last_weights = new_weights(shape=[fc_size, num_classes])\n",
    "last_biases = new_biases(length=num_classes)\n",
    "\n",
    "last_layer = tf.matmul(fc1_layer, last_weights) + last_biases"
   ]
  },
  {
   "cell_type": "code",
   "execution_count": 23,
   "metadata": {
    "collapsed": true,
    "deletable": true,
    "editable": true
   },
   "outputs": [],
   "source": [
    "y_pred = tf.nn.softmax(last_layer)\n",
    "y_pred_cls = tf.argmax(y_pred, dimension=1)"
   ]
  },
  {
   "cell_type": "code",
   "execution_count": 24,
   "metadata": {
    "collapsed": true,
    "deletable": true,
    "editable": true
   },
   "outputs": [],
   "source": [
    "cross_entropy = tf.nn.softmax_cross_entropy_with_logits(logits=last_layer,\n",
    "                                                        labels=y_true)\n",
    "cost = tf.reduce_mean(cross_entropy)"
   ]
  },
  {
   "cell_type": "code",
   "execution_count": 25,
   "metadata": {
    "collapsed": true,
    "deletable": true,
    "editable": true
   },
   "outputs": [],
   "source": [
    "correct_prediction = tf.equal(y_pred_cls, y_true_cls)\n",
    "accuracy = tf.reduce_mean(tf.cast(correct_prediction, tf.float32))"
   ]
  },
  {
   "cell_type": "code",
   "execution_count": 56,
   "metadata": {
    "collapsed": false,
    "deletable": true,
    "editable": true
   },
   "outputs": [],
   "source": [
    "_1_weights_conv1 = pd.read_pickle('1st_conv\\conv1_1_kernel_weights.csv').as_matrix()\n",
    "_2_weights_conv1 = pd.read_pickle('1st_conv\\conv1_2_kernel_weights.csv').as_matrix()\n",
    "_3_weights_conv1 = pd.read_pickle('1st_conv\\conv1_3_kernel_weights.csv').as_matrix()\n",
    "_4_weights_conv1 = pd.read_pickle('1st_conv\\conv1_4_kernel_weights.csv').as_matrix()\n",
    "_5_weights_conv1 = pd.read_pickle('1st_conv\\conv1_5_kernel_weights.csv').as_matrix()\n",
    "_6_weights_conv1 = pd.read_pickle('1st_conv\\conv1_6_kernel_weights.csv').as_matrix()\n",
    "_1st_kernel = np.stack((_1_weights_conv1,\n",
    "                         _2_weights_conv1,\n",
    "                         _3_weights_conv1,\n",
    "                         _4_weights_conv1,\n",
    "                         _5_weights_conv1,\n",
    "                         _6_weights_conv1), axis = 3)\n",
    "\n",
    "_1st_biases = pd.read_csv('1st_conv_biases')\n",
    "_1st_biases = _1st_biases.ix[:,'0']\n",
    "_1st_biases = _1st_biases.as_matrix()\n",
    "_1st_biases = np.reshape(_1st_biases, (6,))"
   ]
  },
  {
   "cell_type": "code",
   "execution_count": 58,
   "metadata": {
    "collapsed": false,
    "deletable": true,
    "editable": true
   },
   "outputs": [],
   "source": [
    "_1_weights_conv2 = pd.read_pickle('2nd_conv\\conv2_1_kernel_weights.csv').as_matrix()\n",
    "_2_weights_conv2 = pd.read_pickle('2nd_conv\\conv2_2_kernel_weights.csv').as_matrix()\n",
    "_3_weights_conv2 = pd.read_pickle('2nd_conv\\conv2_3_kernel_weights.csv').as_matrix()\n",
    "_4_weights_conv2 = pd.read_pickle('2nd_conv\\conv2_4_kernel_weights.csv').as_matrix()\n",
    "_5_weights_conv2 = pd.read_pickle('2nd_conv\\conv2_5_kernel_weights.csv').as_matrix()\n",
    "_6_weights_conv2 = pd.read_pickle('2nd_conv\\conv2_6_kernel_weights.csv').as_matrix()\n",
    "\n",
    "_7_weights_conv2 = pd.read_pickle('2nd_conv\\conv2_7_kernel_weights.csv').as_matrix()\n",
    "_8_weights_conv2 = pd.read_pickle('2nd_conv\\conv2_8_kernel_weights.csv').as_matrix()\n",
    "_9_weights_conv2 = pd.read_pickle('2nd_conv\\conv2_9_kernel_weights.csv').as_matrix()\n",
    "_10_weights_conv2 = pd.read_pickle('2nd_conv\\conv2_10_kernel_weights.csv').as_matrix()\n",
    "_11_weights_conv2 = pd.read_pickle('2nd_conv\\conv2_11_kernel_weights.csv').as_matrix()\n",
    "_12_weights_conv2 = pd.read_pickle('2nd_conv\\conv2_12_kernel_weights.csv').as_matrix()\n",
    "\n",
    "_13_weights_conv2 = pd.read_pickle('2nd_conv\\conv2_13_kernel_weights.csv').as_matrix()\n",
    "_14_weights_conv2 = pd.read_pickle('2nd_conv\\conv2_14_kernel_weights.csv').as_matrix()\n",
    "_15_weights_conv2 = pd.read_pickle('2nd_conv\\conv2_15_kernel_weights.csv').as_matrix()\n",
    "_16_weights_conv2 = pd.read_pickle('2nd_conv\\conv2_16_kernel_weights.csv').as_matrix()\n",
    "_17_weights_conv2 = pd.read_pickle('2nd_conv\\conv2_17_kernel_weights.csv').as_matrix()\n",
    "_18_weights_conv2 = pd.read_pickle('2nd_conv\\conv2_18_kernel_weights.csv').as_matrix()\n",
    "\n",
    "_19_weights_conv2 = pd.read_pickle('2nd_conv\\conv2_19_kernel_weights.csv').as_matrix()\n",
    "_20_weights_conv2 = pd.read_pickle('2nd_conv\\conv2_20_kernel_weights.csv').as_matrix()\n",
    "_21_weights_conv2 = pd.read_pickle('2nd_conv\\conv2_21_kernel_weights.csv').as_matrix()\n",
    "_22_weights_conv2 = pd.read_pickle('2nd_conv\\conv2_22_kernel_weights.csv').as_matrix()\n",
    "_23_weights_conv2 = pd.read_pickle('2nd_conv\\conv2_23_kernel_weights.csv').as_matrix()\n",
    "_24_weights_conv2 = pd.read_pickle('2nd_conv\\conv2_24_kernel_weights.csv').as_matrix()\n",
    "\n",
    "_25_weights_conv2 = pd.read_pickle('2nd_conv\\conv2_25_kernel_weights.csv').as_matrix()\n",
    "_26_weights_conv2 = pd.read_pickle('2nd_conv\\conv2_26_kernel_weights.csv').as_matrix()\n",
    "_27_weights_conv2 = pd.read_pickle('2nd_conv\\conv2_27_kernel_weights.csv').as_matrix()\n",
    "_28_weights_conv2 = pd.read_pickle('2nd_conv\\conv2_28_kernel_weights.csv').as_matrix()\n",
    "_29_weights_conv2 = pd.read_pickle('2nd_conv\\conv2_29_kernel_weights.csv').as_matrix()\n",
    "_30_weights_conv2 = pd.read_pickle('2nd_conv\\conv2_30_kernel_weights.csv').as_matrix()\n",
    "\n",
    "_31_weights_conv2 = pd.read_pickle('2nd_conv\\conv2_31_kernel_weights.csv').as_matrix()\n",
    "_32_weights_conv2 = pd.read_pickle('2nd_conv\\conv2_32_kernel_weights.csv').as_matrix()\n",
    "_33_weights_conv2 = pd.read_pickle('2nd_conv\\conv2_33_kernel_weights.csv').as_matrix()\n",
    "_34_weights_conv2 = pd.read_pickle('2nd_conv\\conv2_34_kernel_weights.csv').as_matrix()\n",
    "_35_weights_conv2 = pd.read_pickle('2nd_conv\\conv2_35_kernel_weights.csv').as_matrix()\n",
    "_36_weights_conv2 = pd.read_pickle('2nd_conv\\conv2_36_kernel_weights.csv').as_matrix()\n",
    "\n",
    "_2nd_kernel = np.stack((_1_weights_conv2,\n",
    "                         _2_weights_conv2,\n",
    "                         _3_weights_conv2,\n",
    "                         _4_weights_conv2,\n",
    "                         _5_weights_conv2,\n",
    "                         _6_weights_conv2,\n",
    "                        \n",
    "                         _7_weights_conv2,\n",
    "                         _8_weights_conv2,\n",
    "                         _9_weights_conv2,\n",
    "                         _10_weights_conv2,\n",
    "                         _11_weights_conv2,\n",
    "                         _12_weights_conv2,\n",
    "                        \n",
    "                         _13_weights_conv2,\n",
    "                         _14_weights_conv2,\n",
    "                         _15_weights_conv2,\n",
    "                         _16_weights_conv2,\n",
    "                         _17_weights_conv2,\n",
    "                         _18_weights_conv2,\n",
    "                        \n",
    "                         _19_weights_conv2,\n",
    "                         _20_weights_conv2,\n",
    "                         _21_weights_conv2,\n",
    "                         _22_weights_conv2,\n",
    "                         _23_weights_conv2,\n",
    "                         _24_weights_conv2,\n",
    "                        \n",
    "                         _25_weights_conv2,\n",
    "                         _26_weights_conv2,\n",
    "                         _27_weights_conv2,\n",
    "                         _28_weights_conv2,\n",
    "                         _29_weights_conv2,\n",
    "                         _30_weights_conv2,\n",
    "                        \n",
    "                         _31_weights_conv2,\n",
    "                         _32_weights_conv2,\n",
    "                         _33_weights_conv2,\n",
    "                         _34_weights_conv2,\n",
    "                         _35_weights_conv2,\n",
    "                         _36_weights_conv2), axis = 3)\n",
    "\n",
    "_2nd_biases = pd.read_csv('2nd_conv_biases')\n",
    "_2nd_biases = _2nd_biases.ix[:,'0']\n",
    "_2nd_biases = _2nd_biases.as_matrix()\n",
    "_2nd_biases = np.reshape(_2nd_biases, (36,))"
   ]
  },
  {
   "cell_type": "code",
   "execution_count": 77,
   "metadata": {
    "collapsed": false,
    "deletable": true,
    "editable": true
   },
   "outputs": [],
   "source": [
    "fc_1st_weights = pd.read_csv('1st_ff_weights')\n",
    "fc_1st_weights = fc_1st_weights.ix[:,'0':]\n",
    "fc_1st_weights = fc_1st_weights.as_matrix()\n",
    "\n",
    "fc_1st_biases = pd.read_csv('1st_ff_biases')\n",
    "fc_1st_biases = fc_1st_biases.ix[:,'0':]\n",
    "fc_1st_biases = fc_1st_biases.as_matrix()\n",
    "fc_1st_biases = np.reshape(fc_1st_biases, (128,))"
   ]
  },
  {
   "cell_type": "code",
   "execution_count": 87,
   "metadata": {
    "collapsed": false,
    "deletable": true,
    "editable": true
   },
   "outputs": [],
   "source": [
    "fc_last_weights = pd.read_csv('last_ff_weights')\n",
    "fc_last_weights = fc_last_weights.ix[:,'0':]\n",
    "fc_last_weights = fc_last_weights.as_matrix()\n",
    "\n",
    "fc_last_biases = pd.read_csv('last_ff_biases')\n",
    "fc_last_biases = fc_last_biases.ix[:,'0':]\n",
    "fc_last_biases = fc_last_biases.as_matrix()\n",
    "fc_last_biases = np.reshape(fc_last_biases, (10,))"
   ]
  },
  {
   "cell_type": "code",
   "execution_count": 89,
   "metadata": {
    "collapsed": true,
    "deletable": true,
    "editable": true
   },
   "outputs": [],
   "source": [
    "session = tf.Session()\n",
    "session.run(tf.global_variables_initializer())"
   ]
  },
  {
   "cell_type": "code",
   "execution_count": 92,
   "metadata": {
    "collapsed": false,
    "deletable": true,
    "editable": true
   },
   "outputs": [],
   "source": [
    "feed_label_validate = one_hot_encoding(label_validate)\n",
    "validate_class = np.array([label.argmax() for label in feed_label_validate])\n",
    "feed_dict_validate = {x: validate,\n",
    "                      y_true: feed_label_validate,\n",
    "                      y_true_cls: validate_class,\n",
    "                      \n",
    "                      first_weights:_1st_kernel,\n",
    "                      first_biases:_1st_biases,\n",
    "                     \n",
    "                      second_weights:_2nd_kernel,\n",
    "                      second_biases:_2nd_biases,\n",
    "                      \n",
    "                      fc1_weights:fc_1st_weights,\n",
    "                      fc1_biases:fc_1st_biases,\n",
    "                      \n",
    "                      last_weights:fc_last_weights,\n",
    "                      last_biases:fc_last_biases}"
   ]
  },
  {
   "cell_type": "code",
   "execution_count": 93,
   "metadata": {
    "collapsed": true,
    "deletable": true,
    "editable": true
   },
   "outputs": [],
   "source": [
    "def print_accuracy(feed_dict_):\n",
    "    # Use TensorFlow to compute the accuracy.\n",
    "    acc = session.run(accuracy, feed_dict_)\n",
    "    \n",
    "    # Print the accuracy.\n",
    "    #print(\"Accuracy on test-set: {0:.1%}\".format(acc))\n",
    "    return acc"
   ]
  },
  {
   "cell_type": "code",
   "execution_count": 94,
   "metadata": {
    "collapsed": false
   },
   "outputs": [
    {
     "data": {
      "text/plain": [
       "0.94091177"
      ]
     },
     "execution_count": 94,
     "metadata": {},
     "output_type": "execute_result"
    }
   ],
   "source": [
    "print_accuracy(feed_dict_validate)"
   ]
  },
  {
   "cell_type": "code",
   "execution_count": null,
   "metadata": {
    "collapsed": true
   },
   "outputs": [],
   "source": []
  }
 ],
 "metadata": {
  "kernelspec": {
   "display_name": "Python 3",
   "language": "python",
   "name": "python3"
  },
  "language_info": {
   "codemirror_mode": {
    "name": "ipython",
    "version": 3
   },
   "file_extension": ".py",
   "mimetype": "text/x-python",
   "name": "python",
   "nbconvert_exporter": "python",
   "pygments_lexer": "ipython3",
   "version": "3.5.2"
  }
 },
 "nbformat": 4,
 "nbformat_minor": 2
}
