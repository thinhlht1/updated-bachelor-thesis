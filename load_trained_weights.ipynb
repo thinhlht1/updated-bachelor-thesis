{
 "cells": [
  {
   "cell_type": "code",
   "execution_count": 1,
   "metadata": {
    "collapsed": true,
    "deletable": true,
    "editable": true
   },
   "outputs": [],
   "source": [
    "import numpy as np\n",
    "import pandas as pd\n",
    "import tensorflow as tf\n",
    "from PIL import Image"
   ]
  },
  {
   "cell_type": "code",
   "execution_count": 2,
   "metadata": {
    "collapsed": false,
    "deletable": true,
    "editable": true
   },
   "outputs": [],
   "source": [
    "train = pd.read_csv('mnist_train.csv')"
   ]
  },
  {
   "cell_type": "code",
   "execution_count": 3,
   "metadata": {
    "collapsed": false,
    "deletable": true,
    "editable": true
   },
   "outputs": [
    {
     "data": {
      "text/plain": [
       "(1000,)"
      ]
     },
     "execution_count": 3,
     "metadata": {},
     "output_type": "execute_result"
    }
   ],
   "source": [
    "_1st_weights = pd.read_csv('1st_weights')\n",
    "_1st_weights = _1st_weights.ix[:,'0':]\n",
    "_1st_weights = _1st_weights.as_matrix()\n",
    "\n",
    "_1st_biases = pd.read_csv('1st_biases')\n",
    "_1st_biases = _1st_biases.ix[:,'0':]\n",
    "_1st_biases = _1st_biases.as_matrix()\n",
    "_1st_biases = np.reshape(_1st_biases, (1000,))\n",
    "np.shape(_1st_biases)"
   ]
  },
  {
   "cell_type": "code",
   "execution_count": 4,
   "metadata": {
    "collapsed": false,
    "deletable": true,
    "editable": true
   },
   "outputs": [],
   "source": [
    "_2nd_weights = pd.read_csv('2nd_weights')\n",
    "_2nd_weights = _2nd_weights.ix[:,'0':]\n",
    "_2nd_weights = _2nd_weights.as_matrix()\n",
    "\n",
    "_2nd_biases = pd.read_csv('2nd_biases')\n",
    "_2nd_biases = _2nd_biases.ix[:,'0':]\n",
    "_2nd_biases = _2nd_biases.as_matrix()\n",
    "_2nd_biases = np.reshape(_2nd_biases, (1300,))"
   ]
  },
  {
   "cell_type": "code",
   "execution_count": 5,
   "metadata": {
    "collapsed": true,
    "deletable": true,
    "editable": true
   },
   "outputs": [],
   "source": [
    "_3rd_weights = pd.read_csv('3rd_weights')\n",
    "_3rd_weights = _3rd_weights.ix[:,'0':]\n",
    "_3rd_weights = _3rd_weights.as_matrix()\n",
    "\n",
    "_3rd_biases = pd.read_csv('3rd_biases')\n",
    "_3rd_biases = _3rd_biases.ix[:,'0':]\n",
    "_3rd_biases = _3rd_biases.as_matrix()\n",
    "_3rd_biases = np.reshape(_3rd_biases, (1500,))"
   ]
  },
  {
   "cell_type": "code",
   "execution_count": 6,
   "metadata": {
    "collapsed": true,
    "deletable": true,
    "editable": true
   },
   "outputs": [],
   "source": [
    "_lst_weights = pd.read_csv('lst_weights')\n",
    "_lst_weights = _lst_weights.ix[:,'0':]\n",
    "_lst_weights = _lst_weights.as_matrix()\n",
    "\n",
    "_lst_biases = pd.read_csv('lst_biases')\n",
    "_lst_biases = _lst_biases.ix[:,'0':]\n",
    "_lst_biases = _lst_biases.as_matrix()\n",
    "_lst_biases = np.reshape(_lst_biases, (10,))"
   ]
  },
  {
   "cell_type": "code",
   "execution_count": 7,
   "metadata": {
    "collapsed": false,
    "deletable": true,
    "editable": true
   },
   "outputs": [],
   "source": [
    "img = Image.open('image.bmp')\n",
    "arr = np.array(img)"
   ]
  },
  {
   "cell_type": "code",
   "execution_count": 8,
   "metadata": {
    "collapsed": false,
    "deletable": true,
    "editable": true
   },
   "outputs": [
    {
     "data": {
      "text/plain": [
       "(28, 28)"
      ]
     },
     "execution_count": 8,
     "metadata": {},
     "output_type": "execute_result"
    }
   ],
   "source": [
    "mean = np.mean(arr)\n",
    "std = np.std(arr)\n",
    "zero_mean = arr - mean\n",
    "image = zero_mean/std\n",
    "np.shape(image)"
   ]
  },
  {
   "cell_type": "code",
   "execution_count": 9,
   "metadata": {
    "collapsed": false,
    "deletable": true,
    "editable": true
   },
   "outputs": [],
   "source": [
    "dict_x_train = train.ix[:,'0':]\n",
    "pixel_train = dict_x_train.as_matrix()\n",
    "dict_y_train = train.ix[:,'5']\n",
    "label = dict_y_train.as_matrix()\n",
    "\n",
    "###############################################\n",
    "mean_train = np.mean(pixel_train,axis = 1)\n",
    "std_train = np.std(pixel_train,axis = 1)\n",
    "#############################################\n",
    "\n",
    "###############################################\n",
    "mean_temp_train = np.tile(mean_train,[784,1])\n",
    "mean_temp_train = mean_temp_train.transpose()\n",
    "\n",
    "std_temp_train = np.tile(std_train,[784,1])\n",
    "std_temp_train = std_temp_train.transpose()\n",
    "############################################\n",
    "\n",
    "###########################################\n",
    "zero_mean_train = pixel_train - mean_temp_train\n",
    "data = zero_mean_train/std_temp_train\n",
    "##############################################\n",
    "\n",
    "\n",
    "#############################################\n",
    "train_data = data\n",
    "###########################################\n",
    "\n",
    "\n",
    "###########################################\n",
    "data = train_data[0:42000,:]\n",
    "validate = train_data[42001:54000,:]\n",
    "testdata = train_data[54001:59998,:]\n",
    "\n",
    "label_data = label[0:42000]\n",
    "label_validate = label[42001:54000]\n",
    "label_test = label[54001:59998]\n",
    "##############################################"
   ]
  },
  {
   "cell_type": "code",
   "execution_count": null,
   "metadata": {
    "collapsed": false,
    "deletable": true,
    "editable": true
   },
   "outputs": [],
   "source": []
  },
  {
   "cell_type": "code",
   "execution_count": 10,
   "metadata": {
    "collapsed": true,
    "deletable": true,
    "editable": true
   },
   "outputs": [],
   "source": [
    "def one_hot_encoding(x):\n",
    "    temp = np.zeros((len(x), 10))             #10 classes\n",
    "    temp[np.arange(len(x)), x] = 1\n",
    "    return temp"
   ]
  },
  {
   "cell_type": "code",
   "execution_count": 11,
   "metadata": {
    "collapsed": true,
    "deletable": true,
    "editable": true
   },
   "outputs": [],
   "source": [
    "img_size = 28\n",
    "\n",
    "img_size_flat = img_size * img_size\n",
    "\n",
    "img_shape = (img_size, img_size)\n",
    "\n",
    "first_layer = 1000\n",
    "\n",
    "second_layer = 1300\n",
    "\n",
    "third_layer = 1500\n",
    "\n",
    "num_classes = 10"
   ]
  },
  {
   "cell_type": "code",
   "execution_count": 12,
   "metadata": {
    "collapsed": true,
    "deletable": true,
    "editable": true
   },
   "outputs": [],
   "source": [
    "x = tf.placeholder(tf.float32, [None, img_size_flat])\n",
    "y_true = tf.placeholder(tf.float32, [None, num_classes])\n",
    "y_true_cls = tf.placeholder(tf.int64, [None])"
   ]
  },
  {
   "cell_type": "code",
   "execution_count": 13,
   "metadata": {
    "collapsed": false,
    "deletable": true,
    "editable": true
   },
   "outputs": [],
   "source": [
    "first_weights = tf.Variable(tf.random_normal([img_size_flat, first_layer]))\n",
    "first_biases = tf.Variable(tf.zeros([first_layer]))\n",
    "\n",
    "second_weights = tf.Variable(tf.random_normal([first_layer, second_layer]))\n",
    "second_biases = tf.Variable(tf.zeros([second_layer]))\n",
    "\n",
    "third_weights = tf.Variable(tf.random_normal([second_layer, third_layer]))\n",
    "third_biases = tf.Variable(tf.zeros([third_layer]))\n",
    "\n",
    "last_weights = tf.Variable(tf.random_normal([third_layer,num_classes]))\n",
    "last_biases = tf.Variable(tf.zeros([num_classes]))"
   ]
  },
  {
   "cell_type": "code",
   "execution_count": 14,
   "metadata": {
    "collapsed": false,
    "deletable": true,
    "editable": true
   },
   "outputs": [],
   "source": [
    "z1 = tf.matmul(x,first_weights) + first_biases\n",
    "a1 = tf.nn.relu(z1)\n",
    "\n",
    "z2 = tf.matmul(a1, second_weights) + second_biases\n",
    "a2 = tf.nn.relu(z2)\n",
    "\n",
    "z3 = tf.matmul(a2, third_weights) + third_biases\n",
    "a3 = tf.nn.relu(z3)\n",
    "\n",
    "logits = tf.matmul(a3, last_weights) + last_biases"
   ]
  },
  {
   "cell_type": "code",
   "execution_count": 15,
   "metadata": {
    "collapsed": false,
    "deletable": true,
    "editable": true
   },
   "outputs": [
    {
     "data": {
      "text/plain": [
       "<tf.Tensor 'Softmax:0' shape=(?, 10) dtype=float32>"
      ]
     },
     "execution_count": 15,
     "metadata": {},
     "output_type": "execute_result"
    }
   ],
   "source": [
    "y_pred = tf.nn.softmax(logits)\n",
    "y_pred_cls = tf.argmax(y_pred, dimension=1)\n",
    "y_pred"
   ]
  },
  {
   "cell_type": "code",
   "execution_count": 16,
   "metadata": {
    "collapsed": false,
    "deletable": true,
    "editable": true
   },
   "outputs": [
    {
     "data": {
      "text/plain": [
       "array([9, 2, 1, 8, 7, 1, 1, 8, 4, 4, 0, 3, 0, 3, 4, 1, 1, 8, 7, 0, 5, 4, 7,\n",
       "       7, 1, 4, 3, 9, 3, 1, 3, 2, 1, 9, 6, 7, 9, 4, 7, 2, 4, 8, 3, 1, 0, 7,\n",
       "       2, 5, 6, 0, 8, 7, 1, 6, 5, 5, 9, 9, 0, 8, 6, 8, 6, 3, 3, 5, 3, 4, 8,\n",
       "       3, 1, 8, 4, 0, 7, 3, 2, 4, 2, 3, 0, 7, 0, 5, 1, 9, 7, 0, 7, 3, 8, 0,\n",
       "       9, 9, 6, 8, 8, 5, 8, 3, 2, 0, 3, 7, 2, 4, 9, 7, 8, 8, 5, 4, 2, 9, 6,\n",
       "       2, 2, 1, 4, 9, 8, 2, 4, 2, 6, 3, 5, 1, 0, 4, 1, 3, 2, 0, 3, 5, 4, 9,\n",
       "       5, 3, 6, 1, 7, 5, 8, 9, 9, 5, 0, 4, 1], dtype=int64)"
      ]
     },
     "execution_count": 16,
     "metadata": {},
     "output_type": "execute_result"
    }
   ],
   "source": [
    "testing = train.ix['43000':'43150',:]\n",
    "dict_x_testing = train.ix['43000':'43150','0':]\n",
    "pixel_testing = dict_x_testing.as_matrix()\n",
    "\n",
    "\n",
    "dict_y_testing = train.ix['43000':'43150','5']\n",
    "dict_y_testing\n",
    "label_testing = dict_y_testing.as_matrix()\n",
    "label_testing"
   ]
  },
  {
   "cell_type": "code",
   "execution_count": 17,
   "metadata": {
    "collapsed": false,
    "deletable": true,
    "editable": true
   },
   "outputs": [
    {
     "data": {
      "text/plain": [
       "numpy.float32"
      ]
     },
     "execution_count": 17,
     "metadata": {},
     "output_type": "execute_result"
    }
   ],
   "source": [
    "image = np.reshape(image,(1,28*28))\n",
    "image=np.float32(image)\n",
    "type(image[0,0])"
   ]
  },
  {
   "cell_type": "code",
   "execution_count": 20,
   "metadata": {
    "collapsed": false,
    "deletable": true,
    "editable": true
   },
   "outputs": [],
   "source": [
    "#feed_label_testing = one_hot_encoding(label_testing)\n",
    "#testing_class = np.array([label.argmax() for label in feed_label_testing])\n",
    "feed_dict_testing = {x: pixel_testing ,\n",
    "                     \n",
    "                      first_weights: _1st_weights,\n",
    "                      first_biases: _1st_biases,\n",
    "                      \n",
    "                      second_weights: _2nd_weights,\n",
    "                      second_biases: _2nd_biases,\n",
    "                      \n",
    "                      third_weights: _3rd_weights,\n",
    "                      third_biases: _3rd_biases,\n",
    "                      \n",
    "                      last_weights: _lst_weights,\n",
    "                      last_biases: _lst_biases}"
   ]
  },
  {
   "cell_type": "code",
   "execution_count": 21,
   "metadata": {
    "collapsed": false,
    "deletable": true,
    "editable": true
   },
   "outputs": [
    {
     "data": {
      "text/plain": [
       "array([4, 2, 1, 8, 7, 1, 1, 8, 9, 4, 0, 1, 0, 3, 4, 1, 1, 8, 7, 0, 5, 4, 7,\n",
       "       7, 1, 4, 3, 9, 3, 1, 3, 2, 1, 5, 6, 7, 8, 4, 7, 2, 4, 8, 8, 1, 0, 7,\n",
       "       2, 5, 6, 0, 8, 7, 1, 6, 5, 5, 9, 9, 8, 8, 6, 8, 6, 3, 3, 5, 3, 4, 8,\n",
       "       3, 1, 8, 4, 0, 7, 3, 2, 4, 8, 3, 0, 7, 0, 5, 1, 9, 7, 0, 1, 3, 8, 0,\n",
       "       9, 9, 8, 8, 8, 5, 8, 3, 2, 0, 3, 7, 2, 4, 9, 7, 8, 8, 8, 4, 2, 9, 6,\n",
       "       2, 2, 1, 4, 9, 8, 2, 4, 2, 6, 6, 5, 1, 0, 4, 1, 3, 2, 0, 3, 5, 4, 9,\n",
       "       5, 3, 6, 1, 7, 5, 8, 9, 9, 5, 0, 4, 1], dtype=int64)"
      ]
     },
     "execution_count": 21,
     "metadata": {},
     "output_type": "execute_result"
    }
   ],
   "source": [
    "session = tf.Session()\n",
    "session.run(tf.global_variables_initializer())\n",
    "session.run(y_pred_cls, feed_dict = feed_dict_testing)"
   ]
  },
  {
   "cell_type": "code",
   "execution_count": 20,
   "metadata": {
    "collapsed": false,
    "deletable": true,
    "editable": true
   },
   "outputs": [
    {
     "data": {
      "text/plain": [
       "array([9, 2, 1, 8, 7, 1, 1, 8, 4, 4, 0, 3, 0, 3, 4, 1, 1, 8, 7, 0, 5, 4, 7,\n",
       "       7, 1, 4, 3, 9, 3, 1, 3, 2, 1, 9, 6, 7, 9, 4, 7, 2, 4, 8, 3, 1, 0, 7,\n",
       "       2, 5, 6, 0, 8, 7, 1, 6, 5, 5, 9, 9, 0, 8, 6, 8, 6, 3, 3, 5, 3, 4, 8,\n",
       "       3, 1, 8, 4, 0, 7, 3, 2, 4, 2, 3, 0, 7, 0, 5, 1, 9, 7, 0, 7, 3, 8, 0,\n",
       "       9, 9, 6, 8, 8, 5, 8, 3, 2, 0, 3, 7, 2, 4, 9, 7, 8, 8, 5, 4, 2, 9, 6,\n",
       "       2, 2, 1, 4, 9, 8, 2, 4, 2, 6, 3, 5, 1, 0, 4, 1, 3, 2, 0, 3, 5, 4, 9,\n",
       "       5, 3, 6, 1, 7, 5, 8, 9, 9, 5, 0, 4, 1], dtype=int64)"
      ]
     },
     "execution_count": 20,
     "metadata": {},
     "output_type": "execute_result"
    }
   ],
   "source": [
    "label_testing"
   ]
  },
  {
   "cell_type": "code",
   "execution_count": null,
   "metadata": {
    "collapsed": true,
    "deletable": true,
    "editable": true
   },
   "outputs": [],
   "source": []
  },
  {
   "cell_type": "code",
   "execution_count": null,
   "metadata": {
    "collapsed": true,
    "deletable": true,
    "editable": true
   },
   "outputs": [],
   "source": []
  }
 ],
 "metadata": {
  "kernelspec": {
   "display_name": "Python 3",
   "language": "python",
   "name": "python3"
  },
  "language_info": {
   "codemirror_mode": {
    "name": "ipython",
    "version": 3
   },
   "file_extension": ".py",
   "mimetype": "text/x-python",
   "name": "python",
   "nbconvert_exporter": "python",
   "pygments_lexer": "ipython3",
   "version": "3.5.2"
  }
 },
 "nbformat": 4,
 "nbformat_minor": 2
}
