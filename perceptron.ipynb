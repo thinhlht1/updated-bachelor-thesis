{
 "cells": [
  {
   "cell_type": "code",
   "execution_count": 1,
   "metadata": {
    "collapsed": false,
    "deletable": true,
    "editable": true
   },
   "outputs": [],
   "source": [
    "import numpy as np\n",
    "import pandas as pd\n",
    "import tensorflow as tf\n",
    "import matplotlib.pyplot as plt"
   ]
  },
  {
   "cell_type": "code",
   "execution_count": 2,
   "metadata": {
    "collapsed": false,
    "deletable": true,
    "editable": true
   },
   "outputs": [],
   "source": [
    "train = pd.read_csv('mnist_train.csv')\n",
    "test = pd.read_csv('mnist_test.csv')"
   ]
  },
  {
   "cell_type": "code",
   "execution_count": 3,
   "metadata": {
    "collapsed": false,
    "deletable": true,
    "editable": true
   },
   "outputs": [],
   "source": [
    "dict_x_train = train.ix[:,'0':]\n",
    "pixel_train = dict_x_train.as_matrix()\n",
    "dict_y_train = train.ix[:,'5']\n",
    "label = dict_y_train.as_matrix()\n",
    "\n",
    "dict_x_test = test.ix[:,'0':]\n",
    "pixel_test = dict_x_test.as_matrix()\n",
    "dict_y_test = test.ix[:,'7']\n",
    "label_test = dict_y_test.as_matrix()"
   ]
  },
  {
   "cell_type": "code",
   "execution_count": 4,
   "metadata": {
    "collapsed": false,
    "deletable": true,
    "editable": true
   },
   "outputs": [
    {
     "data": {
      "text/plain": [
       "(9999, 784)"
      ]
     },
     "execution_count": 4,
     "metadata": {},
     "output_type": "execute_result"
    }
   ],
   "source": [
    "np.shape(pixel_test)"
   ]
  },
  {
   "cell_type": "code",
   "execution_count": 5,
   "metadata": {
    "collapsed": false,
    "deletable": true,
    "editable": true
   },
   "outputs": [],
   "source": [
    "mean_train = np.mean(pixel_train,axis = 1)\n",
    "std_train = np.std(pixel_train,axis = 1)\n",
    "\n",
    "mean_test = np.mean(pixel_test,axis = 1)\n",
    "std_test = np.std(pixel_test,axis = 1)"
   ]
  },
  {
   "cell_type": "markdown",
   "metadata": {
    "deletable": true,
    "editable": true
   },
   "source": [
    "Pre-processing the data. np.tile create matrix with duplicated rows or columns"
   ]
  },
  {
   "cell_type": "code",
   "execution_count": 6,
   "metadata": {
    "collapsed": false,
    "deletable": true,
    "editable": true
   },
   "outputs": [],
   "source": [
    "mean_temp_train = np.tile(mean_train,[784,1])\n",
    "mean_temp_train = mean_temp_train.transpose()\n",
    "\n",
    "std_temp_train = np.tile(std_train,[784,1])\n",
    "std_temp_train = std_temp_train.transpose()\n",
    "\n",
    "\n",
    "mean_temp_test = np.tile(mean_test,[784,1])\n",
    "mean_temp_test = mean_temp_test.transpose()\n",
    "\n",
    "std_temp_test = np.tile(std_test,[784,1])\n",
    "std_temp_test = std_temp_test.transpose()"
   ]
  },
  {
   "cell_type": "code",
   "execution_count": 7,
   "metadata": {
    "collapsed": false,
    "deletable": true,
    "editable": true
   },
   "outputs": [],
   "source": [
    "zero_mean_train = pixel_train - mean_temp_train\n",
    "data = zero_mean_train/std_temp_train\n",
    "\n",
    "\n",
    "zero_mean_test = pixel_test - mean_temp_test\n",
    "test_data = zero_mean_test/std_temp_test"
   ]
  },
  {
   "cell_type": "code",
   "execution_count": 8,
   "metadata": {
    "collapsed": false,
    "deletable": true,
    "editable": true
   },
   "outputs": [],
   "source": [
    "train_data = data"
   ]
  },
  {
   "cell_type": "code",
   "execution_count": 9,
   "metadata": {
    "collapsed": true,
    "deletable": true,
    "editable": true
   },
   "outputs": [],
   "source": [
    "data = train_data[0:42000,:]\n",
    "validate = train_data[42001:54000,:]\n",
    "testdata = train_data[54001:59998,:]\n",
    "\n",
    "label_data = label[0:42000]\n",
    "label_validate = label[42001:54000]\n",
    "label_test = label[54001:59998]"
   ]
  },
  {
   "cell_type": "code",
   "execution_count": 10,
   "metadata": {
    "collapsed": false,
    "deletable": true,
    "editable": true
   },
   "outputs": [],
   "source": [
    "def one_hot_encoding(x):\n",
    "    temp = np.zeros((len(x), 10))             #10 classes\n",
    "    temp[np.arange(len(x)), x] = 1\n",
    "    return temp"
   ]
  },
  {
   "cell_type": "code",
   "execution_count": 11,
   "metadata": {
    "collapsed": true,
    "deletable": true,
    "editable": true
   },
   "outputs": [],
   "source": [
    "img_size = 28\n",
    "\n",
    "img_size_flat = img_size * img_size\n",
    "\n",
    "img_shape = (img_size, img_size)\n",
    "\n",
    "num_classes = 10"
   ]
  },
  {
   "cell_type": "code",
   "execution_count": 12,
   "metadata": {
    "collapsed": false,
    "deletable": true,
    "editable": true
   },
   "outputs": [],
   "source": [
    "x = tf.placeholder(tf.float32, [None, img_size_flat])\n",
    "y_true = tf.placeholder(tf.float32, [None, num_classes])\n",
    "y_true_cls = tf.placeholder(tf.int64, [None])"
   ]
  },
  {
   "cell_type": "code",
   "execution_count": 13,
   "metadata": {
    "collapsed": true,
    "deletable": true,
    "editable": true
   },
   "outputs": [],
   "source": [
    "weights = tf.Variable(tf.zeros([img_size_flat, num_classes]))\n",
    "biases = tf.Variable(tf.zeros([num_classes]))"
   ]
  },
  {
   "cell_type": "code",
   "execution_count": 14,
   "metadata": {
    "collapsed": true,
    "deletable": true,
    "editable": true
   },
   "outputs": [],
   "source": [
    "logits = tf.matmul(x, weights) + biases"
   ]
  },
  {
   "cell_type": "code",
   "execution_count": 15,
   "metadata": {
    "collapsed": false,
    "deletable": true,
    "editable": true
   },
   "outputs": [
    {
     "data": {
      "text/plain": [
       "<tf.Tensor 'Softmax:0' shape=(?, 10) dtype=float32>"
      ]
     },
     "execution_count": 15,
     "metadata": {},
     "output_type": "execute_result"
    }
   ],
   "source": [
    "y_pred = tf.nn.softmax(logits)\n",
    "y_pred_cls = tf.argmax(y_pred, dimension=1)\n",
    "y_pred"
   ]
  },
  {
   "cell_type": "markdown",
   "metadata": {
    "deletable": true,
    "editable": true
   },
   "source": [
    "# L2 regularizations"
   ]
  },
  {
   "cell_type": "code",
   "execution_count": 16,
   "metadata": {
    "collapsed": true,
    "deletable": true,
    "editable": true
   },
   "outputs": [],
   "source": [
    "cross_entropy = tf.nn.softmax_cross_entropy_with_logits(logits=logits,\n",
    "                                                        labels=y_true)\n",
    "cost = tf.reduce_mean(cross_entropy+0*tf.nn.l2_loss(weights))"
   ]
  },
  {
   "cell_type": "code",
   "execution_count": 17,
   "metadata": {
    "collapsed": false,
    "deletable": true,
    "editable": true
   },
   "outputs": [],
   "source": [
    "optimizer = tf.train.GradientDescentOptimizer(learning_rate=0.005).minimize(cost)\n",
    "correct_prediction = tf.equal(y_pred_cls, y_true_cls)\n",
    "accuracy = tf.reduce_mean(tf.cast(correct_prediction, tf.float32))"
   ]
  },
  {
   "cell_type": "code",
   "execution_count": 18,
   "metadata": {
    "collapsed": true,
    "deletable": true,
    "editable": true
   },
   "outputs": [],
   "source": [
    "def one_hot_encoding(x):\n",
    "    temp = np.zeros((len(x), 10))             #10 classes\n",
    "    temp[np.arange(len(x)), x] = 1\n",
    "    return temp"
   ]
  },
  {
   "cell_type": "code",
   "execution_count": 19,
   "metadata": {
    "collapsed": true,
    "deletable": true,
    "editable": true
   },
   "outputs": [],
   "source": [
    "session = tf.Session()\n",
    "session.run(tf.global_variables_initializer())"
   ]
  },
  {
   "cell_type": "code",
   "execution_count": 20,
   "metadata": {
    "collapsed": false,
    "deletable": true,
    "editable": true
   },
   "outputs": [],
   "source": [
    "batch_size = 100\n",
    "steps = len(data)/batch_size\n",
    "#steps = 800/batch_size\n",
    "steps = int(steps)\n",
    "err_test = list()\n",
    "err_validate = list()\n",
    "acc_test = list()\n",
    "acc_validate = list()\n",
    "def optimize(num_iterations):\n",
    "    for i in range(num_iterations):\n",
    "        k = 0\n",
    "        for j in range(steps):\n",
    "            x_batch = data[k:k+ batch_size,:] \n",
    "            y_true_batch = label_data[k:k+ batch_size]\n",
    "\n",
    "            y_true_batch = one_hot_encoding(y_true_batch)\n",
    "           \n",
    "            k = k + batch_size\n",
    "            feed_dict_train = {x: x_batch,\n",
    "                               y_true: y_true_batch}\n",
    "            session.run(optimizer, feed_dict=feed_dict_train)\n",
    "        print(\"Time: {0}, acc on validate: {1}, acc on data: {2}\".format(i, print_accuracy(feed_dict_test), print_accuracy(feed_dict_validate)))\n",
    "        err_test.append(print_loss(feed_dict_test))\n",
    "        err_validate.append(print_loss(feed_dict_validate))\n",
    "        acc_validate.append(print_accuracy(feed_dict_validate))\n",
    "        acc_test.append(print_accuracy(feed_dict_test))"
   ]
  },
  {
   "cell_type": "code",
   "execution_count": 21,
   "metadata": {
    "collapsed": false,
    "deletable": true,
    "editable": true
   },
   "outputs": [],
   "source": [
    "feed_label_validate = one_hot_encoding(label_validate)\n",
    "validate_class = np.array([label.argmax() for label in feed_label_validate])\n",
    "feed_dict_validate = {x: validate,\n",
    "                  y_true: feed_label_validate,\n",
    "                  y_true_cls: validate_class}"
   ]
  },
  {
   "cell_type": "code",
   "execution_count": 22,
   "metadata": {
    "collapsed": false,
    "deletable": true,
    "editable": true
   },
   "outputs": [],
   "source": [
    "feed_label_test = one_hot_encoding(label_data)\n",
    "test_class = np.array([label.argmax() for label in feed_label_test])\n",
    "feed_dict_test = {x: data,\n",
    "                  y_true: feed_label_test,\n",
    "                  y_true_cls: test_class}"
   ]
  },
  {
   "cell_type": "code",
   "execution_count": 23,
   "metadata": {
    "collapsed": true,
    "deletable": true,
    "editable": true
   },
   "outputs": [],
   "source": [
    "def print_accuracy(feed_dict_):\n",
    "    # Use TensorFlow to compute the accuracy.\n",
    "    acc = session.run(accuracy, feed_dict_)\n",
    "    \n",
    "    # Print the accuracy.\n",
    "    #print(\"Accuracy on test-set: {0:.1%}\".format(acc))\n",
    "    return acc"
   ]
  },
  {
   "cell_type": "code",
   "execution_count": 24,
   "metadata": {
    "collapsed": true,
    "deletable": true,
    "editable": true
   },
   "outputs": [],
   "source": [
    "def print_loss(feed_dict_):\n",
    "    # Use TensorFlow to compute the accuracy.\n",
    "    acc = session.run(cost, feed_dict_)\n",
    "    \n",
    "    # Print the accuracy.\n",
    "    #print(\"Accuracy on test-set: {0:.1%}\".format(acc))\n",
    "    return acc"
   ]
  },
  {
   "cell_type": "code",
   "execution_count": 25,
   "metadata": {
    "collapsed": false,
    "deletable": true,
    "editable": true
   },
   "outputs": [],
   "source": [
    "err_validate.append(print_loss(feed_dict_validate))\n",
    "err_test.append(print_loss(feed_dict_test))\n",
    "\n",
    "\n",
    "acc_validate.append(print_accuracy(feed_dict_validate))\n",
    "acc_test.append(print_accuracy(feed_dict_test))"
   ]
  },
  {
   "cell_type": "code",
   "execution_count": 26,
   "metadata": {
    "collapsed": false,
    "deletable": true,
    "editable": true
   },
   "outputs": [
    {
     "data": {
      "text/plain": [
       "0.099424951"
      ]
     },
     "execution_count": 26,
     "metadata": {},
     "output_type": "execute_result"
    }
   ],
   "source": [
    "print_accuracy(feed_dict_validate)"
   ]
  },
  {
   "cell_type": "code",
   "execution_count": 27,
   "metadata": {
    "collapsed": false,
    "deletable": true,
    "editable": true
   },
   "outputs": [
    {
     "name": "stdout",
     "output_type": "stream",
     "text": [
      "Time: 0, acc on validate: 0.8784762024879456, acc on data: 0.8694891333580017\n",
      "Time: 1, acc on validate: 0.8915476202964783, acc on data: 0.8815734386444092\n",
      "Time: 2, acc on validate: 0.8982856869697571, acc on data: 0.8873239159584045\n",
      "Time: 3, acc on validate: 0.9015476107597351, acc on data: 0.8914076089859009\n",
      "Time: 4, acc on validate: 0.9049285650253296, acc on data: 0.8945745229721069\n",
      "Time: 5, acc on validate: 0.9072142839431763, acc on data: 0.8971580862998962\n",
      "Time: 6, acc on validate: 0.9091190695762634, acc on data: 0.89882493019104\n",
      "Time: 7, acc on validate: 0.9109047651290894, acc on data: 0.9011584520339966\n",
      "Time: 8, acc on validate: 0.9121666550636292, acc on data: 0.9019085168838501\n",
      "Time: 9, acc on validate: 0.913261890411377, acc on data: 0.9029918909072876\n",
      "Time: 10, acc on validate: 0.9140475988388062, acc on data: 0.9035753011703491\n",
      "Time: 11, acc on validate: 0.9148809313774109, acc on data: 0.9039086699485779\n",
      "Time: 12, acc on validate: 0.9156190752983093, acc on data: 0.9048253893852234\n",
      "Time: 13, acc on validate: 0.9163095355033875, acc on data: 0.9048253893852234\n",
      "Time: 14, acc on validate: 0.9169047474861145, acc on data: 0.9052420854568481\n",
      "Time: 15, acc on validate: 0.9171904921531677, acc on data: 0.9056587815284729\n",
      "Time: 16, acc on validate: 0.9176666736602783, acc on data: 0.9058254957199097\n",
      "Time: 17, acc on validate: 0.9182618856430054, acc on data: 0.9057421684265137\n",
      "Time: 18, acc on validate: 0.9187856912612915, acc on data: 0.9061588644981384\n",
      "Time: 19, acc on validate: 0.9190238118171692, acc on data: 0.9063255190849304\n",
      "Time: 20, acc on validate: 0.9194523692131042, acc on data: 0.9062421917915344\n",
      "Time: 21, acc on validate: 0.9200952649116516, acc on data: 0.9068255424499512\n",
      "Time: 22, acc on validate: 0.920452356338501, acc on data: 0.9069922566413879\n",
      "Time: 23, acc on validate: 0.9208095073699951, acc on data: 0.9074089527130127\n",
      "Time: 24, acc on validate: 0.9210952520370483, acc on data: 0.9074922800064087\n",
      "Time: 25, acc on validate: 0.921500027179718, acc on data: 0.9079089760780334\n",
      "Time: 26, acc on validate: 0.9217143058776855, acc on data: 0.9081590175628662\n",
      "Time: 27, acc on validate: 0.9220476150512695, acc on data: 0.9079089760780334\n",
      "Time: 28, acc on validate: 0.9222142696380615, acc on data: 0.9079089760780334\n",
      "Time: 29, acc on validate: 0.9224523901939392, acc on data: 0.9080756902694702\n",
      "Time: 30, acc on validate: 0.9227380752563477, acc on data: 0.9082423448562622\n",
      "Time: 31, acc on validate: 0.9229047894477844, acc on data: 0.908409059047699\n",
      "Time: 32, acc on validate: 0.9230238199234009, acc on data: 0.908742368221283\n",
      "Time: 33, acc on validate: 0.9231666922569275, acc on data: 0.9089924097061157\n",
      "Time: 34, acc on validate: 0.9233571290969849, acc on data: 0.9092424511909485\n",
      "Time: 35, acc on validate: 0.9237619042396545, acc on data: 0.9093257784843445\n",
      "Time: 36, acc on validate: 0.9241190552711487, acc on data: 0.9095758199691772\n",
      "Time: 37, acc on validate: 0.9244523644447327, acc on data: 0.9095758199691772\n",
      "Time: 38, acc on validate: 0.9244762063026428, acc on data: 0.9094924330711365\n",
      "Time: 39, acc on validate: 0.9245476126670837, acc on data: 0.9094924330711365\n",
      "Time: 40, acc on validate: 0.9247618913650513, acc on data: 0.9097424745559692\n",
      "Time: 41, acc on validate: 0.9248095154762268, acc on data: 0.909992516040802\n",
      "Time: 42, acc on validate: 0.9251190423965454, acc on data: 0.909992516040802\n",
      "Time: 43, acc on validate: 0.925261914730072, acc on data: 0.909909188747406\n",
      "Time: 44, acc on validate: 0.9256666898727417, acc on data: 0.9098258018493652\n",
      "Time: 45, acc on validate: 0.9258333444595337, acc on data: 0.909992516040802\n",
      "Time: 46, acc on validate: 0.9260476231575012, acc on data: 0.909992516040802\n",
      "Time: 47, acc on validate: 0.9261190295219421, acc on data: 0.909909188747406\n",
      "Time: 48, acc on validate: 0.9262381196022034, acc on data: 0.9097424745559692\n",
      "Time: 49, acc on validate: 0.9263095259666443, acc on data: 0.9094924330711365\n",
      "Time: 50, acc on validate: 0.9264523983001709, acc on data: 0.909992516040802\n",
      "Time: 51, acc on validate: 0.9265714287757874, acc on data: 0.910075843334198\n",
      "Time: 52, acc on validate: 0.9266428351402283, acc on data: 0.91024249792099\n",
      "Time: 53, acc on validate: 0.9267619252204895, acc on data: 0.910159170627594\n",
      "Time: 54, acc on validate: 0.926809549331665, acc on data: 0.910075843334198\n",
      "Time: 55, acc on validate: 0.926880955696106, acc on data: 0.910159170627594\n",
      "Time: 56, acc on validate: 0.9270238280296326, acc on data: 0.91024249792099\n",
      "Time: 57, acc on validate: 0.927142858505249, acc on data: 0.909909188747406\n",
      "Time: 58, acc on validate: 0.9273809790611267, acc on data: 0.909992516040802\n",
      "Time: 59, acc on validate: 0.9275714159011841, acc on data: 0.910075843334198\n",
      "Time: 60, acc on validate: 0.9276428818702698, acc on data: 0.91024249792099\n",
      "Time: 61, acc on validate: 0.9277619123458862, acc on data: 0.9103258848190308\n",
      "Time: 62, acc on validate: 0.9278809428215027, acc on data: 0.9105758666992188\n",
      "Time: 63, acc on validate: 0.9279999732971191, acc on data: 0.9104925394058228\n",
      "Time: 64, acc on validate: 0.9281428456306458, acc on data: 0.9105758666992188\n",
      "Time: 65, acc on validate: 0.9282618761062622, acc on data: 0.9108259081840515\n",
      "Time: 66, acc on validate: 0.9283571243286133, acc on data: 0.9112426042556763\n",
      "Time: 67, acc on validate: 0.9283095002174377, acc on data: 0.9109925627708435\n",
      "Time: 68, acc on validate: 0.9283333420753479, acc on data: 0.9110759496688843\n",
      "Time: 69, acc on validate: 0.9284762144088745, acc on data: 0.9110759496688843\n",
      "Time: 70, acc on validate: 0.928595244884491, acc on data: 0.9112426042556763\n",
      "Time: 71, acc on validate: 0.9286190271377563, acc on data: 0.911492645740509\n",
      "Time: 72, acc on validate: 0.9286666512489319, acc on data: 0.911492645740509\n",
      "Time: 73, acc on validate: 0.9287381172180176, acc on data: 0.911575973033905\n",
      "Time: 74, acc on validate: 0.9289047718048096, acc on data: 0.911659300327301\n",
      "Time: 75, acc on validate: 0.928928554058075, acc on data: 0.911742627620697\n",
      "Time: 76, acc on validate: 0.929023802280426, acc on data: 0.911659300327301\n",
      "Time: 77, acc on validate: 0.9290952086448669, acc on data: 0.911575973033905\n",
      "Time: 78, acc on validate: 0.9291666746139526, acc on data: 0.911575973033905\n",
      "Time: 79, acc on validate: 0.9292857050895691, acc on data: 0.9118260145187378\n",
      "Time: 80, acc on validate: 0.9294047355651855, acc on data: 0.9118260145187378\n",
      "Time: 81, acc on validate: 0.9294999837875366, acc on data: 0.9118260145187378\n",
      "Time: 82, acc on validate: 0.9295238256454468, acc on data: 0.9118260145187378\n",
      "Time: 83, acc on validate: 0.9295238256454468, acc on data: 0.911742627620697\n",
      "Time: 84, acc on validate: 0.9295952320098877, acc on data: 0.9119093418121338\n",
      "Time: 85, acc on validate: 0.9296666383743286, acc on data: 0.9118260145187378\n",
      "Time: 86, acc on validate: 0.9298095107078552, acc on data: 0.9119093418121338\n",
      "Time: 87, acc on validate: 0.9298333525657654, acc on data: 0.9119926691055298\n",
      "Time: 88, acc on validate: 0.9299047589302063, acc on data: 0.9119926691055298\n",
      "Time: 89, acc on validate: 0.9299286007881165, acc on data: 0.9120759963989258\n",
      "Time: 90, acc on validate: 0.9300000071525574, acc on data: 0.9122427105903625\n",
      "Time: 91, acc on validate: 0.9301666617393494, acc on data: 0.9124926924705505\n",
      "Time: 92, acc on validate: 0.9302619099617004, acc on data: 0.9124093651771545\n",
      "Time: 93, acc on validate: 0.9302856922149658, acc on data: 0.9123260378837585\n",
      "Time: 94, acc on validate: 0.9304285645484924, acc on data: 0.9124926924705505\n",
      "Time: 95, acc on validate: 0.930404782295227, acc on data: 0.9125760197639465\n",
      "Time: 96, acc on validate: 0.9304999709129333, acc on data: 0.9127427339553833\n",
      "Time: 97, acc on validate: 0.9305238127708435, acc on data: 0.9127427339553833\n",
      "Time: 98, acc on validate: 0.9304999709129333, acc on data: 0.9129093885421753\n",
      "Time: 99, acc on validate: 0.930476188659668, acc on data: 0.9129093885421753\n"
     ]
    }
   ],
   "source": [
    "optimize(num_iterations=100)"
   ]
  },
  {
   "cell_type": "code",
   "execution_count": 28,
   "metadata": {
    "collapsed": false,
    "deletable": true,
    "editable": true
   },
   "outputs": [
    {
     "data": {
      "image/png": "[encoded data removed]",
      "text/plain": [
       "<matplotlib.figure.Figure at 0x134cad2c908>"
      ]
     },
     "metadata": {},
     "output_type": "display_data"
    }
   ],
   "source": [
    "fig = plt.figure()\n",
    "plt.plot(range(len(err_test)),err_test,'r')\n",
    "plt.plot(range(len(err_validate)),err_validate,'b--')\n",
    "plt.ylabel('loss')\n",
    "#plt.title('accuracy on validate data')\n",
    "plt.show()\n",
    "fig.savefig('loss_alpha0005.png')"
   ]
  },
  {
   "cell_type": "code",
   "execution_count": 29,
   "metadata": {
    "collapsed": false,
    "deletable": true,
    "editable": true
   },
   "outputs": [
    {
     "data": {
      "image/png": "[encoded data removed]",
      "text/plain": [
       "<matplotlib.figure.Figure at 0x134cb20ed30>"
      ]
     },
     "metadata": {},
     "output_type": "display_data"
    }
   ],
   "source": [
    "fig = plt.figure()\n",
    "plt.plot(range(len(acc_test)),acc_test,'r')\n",
    "plt.plot(range(len(acc_validate)),acc_validate,'b--')\n",
    "plt.ylabel('acc')\n",
    "#plt.title('accuracy on validate data')\n",
    "plt.show()\n",
    "fig.savefig('acc_alpha0005.png')"
   ]
  },
  {
   "cell_type": "code",
   "execution_count": 38,
   "metadata": {
    "collapsed": false,
    "deletable": true,
    "editable": true
   },
   "outputs": [
    {
     "data": {
      "image/png": "[encoded data removed]",
      "text/plain": [
       "<matplotlib.figure.Figure at 0x1d3251ad8d0>"
      ]
     },
     "metadata": {},
     "output_type": "display_data"
    }
   ],
   "source": [
    "plt.plot(range(len(acc_test)),acc_test)\n",
    "plt.ylabel('accuracy')\n",
    "plt.xlabel('epochs')\n",
    "plt.title('accuracy on training data')\n",
    "plt.show()"
   ]
  },
  {
   "cell_type": "code",
   "execution_count": 39,
   "metadata": {
    "collapsed": false,
    "deletable": true,
    "editable": true
   },
   "outputs": [
    {
     "data": {
      "image/png": "[encoded data removed]",
      "text/plain": [
       "<matplotlib.figure.Figure at 0x1d3253c14e0>"
      ]
     },
     "metadata": {},
     "output_type": "display_data"
    }
   ],
   "source": [
    "plt.plot(range(len(acc_validate)),acc_validate)\n",
    "plt.ylabel('accuracy')\n",
    "plt.xlabel('epochs')\n",
    "plt.title('accuracy on training data')\n",
    "plt.show()"
   ]
  },
  {
   "cell_type": "code",
   "execution_count": null,
   "metadata": {
    "collapsed": true,
    "deletable": true,
    "editable": true
   },
   "outputs": [],
   "source": []
  }
 ],
 "metadata": {
  "kernelspec": {
   "display_name": "Python 3",
   "language": "python",
   "name": "python3"
  },
  "language_info": {
   "codemirror_mode": {
    "name": "ipython",
    "version": 3
   },
   "file_extension": ".py",
   "mimetype": "text/x-python",
   "name": "python",
   "nbconvert_exporter": "python",
   "pygments_lexer": "ipython3",
   "version": "3.5.2"
  }
 },
 "nbformat": 4,
 "nbformat_minor": 2
}
